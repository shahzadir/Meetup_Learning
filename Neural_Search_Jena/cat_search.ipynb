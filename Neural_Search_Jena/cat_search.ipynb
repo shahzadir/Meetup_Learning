{
 "cells": [
  {
   "cell_type": "markdown",
   "id": "12d4ff3b-022c-492a-a0d5-65f11d05dcb4",
   "metadata": {
    "id": "12d4ff3b-022c-492a-a0d5-65f11d05dcb4",
    "tags": []
   },
   "source": [
    "# Building a cat search engine with `docarray`\n",
    "\n",
    "[DocArray](https://docarray.jina.ai) is a library for nested, unstructured data in transit, including text, image, audio, video, 3D mesh, etc. It allows deep-learning engineers to efficiently process, embed, search, recommend, store, and transfer the data with a Pythonic API.\n",
    "\n",
    "In this example we'll use DocArray to build a simple search engine for cat images. You'll be able to upload an image of cats and find similar matches in the dataset.\n"
   ]
  },
  {
   "cell_type": "markdown",
   "id": "18b73db6-b90a-4df3-aa5e-a484d733f81b",
   "metadata": {
    "id": "18b73db6-b90a-4df3-aa5e-a484d733f81b"
   },
   "source": [
    "## Configuration\n",
    "\n",
    "We'll set up some basic variables. Feel free to adapt these for your own project!"
   ]
  },
  {
   "cell_type": "code",
   "execution_count": null,
   "id": "f236662a-41a2-4707-81be-126b77030fa9",
   "metadata": {},
   "outputs": [],
   "source": [
    "'''Jina for medical data science https://github.com/georgeamccarthy/protein_search'''\n"
   ]
  },
  {
   "cell_type": "code",
   "execution_count": 1,
   "id": "3c7c4c90-3fd6-406b-a0d5-fce2b09b720f",
   "metadata": {
    "id": "3c7c4c90-3fd6-406b-a0d5-fce2b09b720f"
   },
   "outputs": [],
   "source": [
    "toy_data_url = \"https://github.com/CatStark/example-docarray/blob/main/dataset.zip?raw=true\"\n",
    "data_dir = \"./dataset\"\n",
    "query_image = \"./1.jpg\" # image we'll use to search with\n",
    "\n"
   ]
  },
  {
   "cell_type": "markdown",
   "id": "9505310b-afca-42fd-98ae-a6298d915498",
   "metadata": {
    "id": "9505310b-afca-42fd-98ae-a6298d915498"
   },
   "source": [
    "## Setup"
   ]
  },
  {
   "cell_type": "code",
   "execution_count": 2,
   "id": "61a76be3-4607-4a2b-815b-75b2749e6384",
   "metadata": {
    "id": "61a76be3-4607-4a2b-815b-75b2749e6384"
   },
   "outputs": [],
   "source": [
    "from docarray import Document, DocumentArray\n",
    "import torchvision"
   ]
  },
  {
   "cell_type": "markdown",
   "id": "c58e62d3-7001-493b-a718-bd3de8a9ea13",
   "metadata": {
    "id": "c58e62d3-7001-493b-a718-bd3de8a9ea13"
   },
   "source": [
    "## Load images"
   ]
  },
  {
   "cell_type": "code",
   "execution_count": 14,
   "id": "486c94fc-9af1-40b2-be7a-17091c3077c0",
   "metadata": {
    "colab": {
     "base_uri": "https://localhost:8080/"
    },
    "id": "486c94fc-9af1-40b2-be7a-17091c3077c0",
    "outputId": "7a6317c8-2a81-4e68-ba79-a87d62651110"
   },
   "outputs": [],
   "source": [
    "# Download images if they don't exist\n",
    "data_dir = \"dataset/dataset\"\n",
    "max_files = 100\n",
    "\n",
    "docs = DocumentArray.from_files(\n",
    "    f\"{data_dir}/*.jpg\", size=max_files\n",
    ")"
   ]
  },
  {
   "cell_type": "markdown",
   "id": "8f3759fa-887b-43f9-be65-3748e4c0dfba",
   "metadata": {
    "id": "8f3759fa-887b-43f9-be65-3748e4c0dfba"
   },
   "source": [
    "## Apply preprocessing"
   ]
  },
  {
   "cell_type": "code",
   "execution_count": 15,
   "id": "6fa60b17-aa2e-4e04-9858-d09c0c9b6795",
   "metadata": {
    "id": "6fa60b17-aa2e-4e04-9858-d09c0c9b6795"
   },
   "outputs": [],
   "source": [
    "# Define preprocessing\n",
    "def preproc(d: Document):\n",
    "    return (\n",
    "        d.load_uri_to_image_tensor()\n",
    "            .set_image_tensor_shape((180, 160))\n",
    "            .set_image_tensor_normalization()\n",
    "            .set_image_tensor_channel_axis(-1, 0)\n",
    "    )\n",
    "\n"
   ]
  },
  {
   "cell_type": "code",
   "execution_count": 16,
   "id": "ef697e23-5505-40ef-99ef-6dc7e99aed1c",
   "metadata": {
    "colab": {
     "base_uri": "https://localhost:8080/",
     "height": 264
    },
    "id": "ef697e23-5505-40ef-99ef-6dc7e99aed1c",
    "outputId": "340bf6d1-581a-49c0-f006-45b0594ca566"
   },
   "outputs": [
    {
     "data": {
      "text/html": [
       "<pre style=\"white-space:pre;overflow-x:auto;line-height:normal;font-family:Menlo,'DejaVu Sans Mono',consolas,'Courier New',monospace\">\n",
       "</pre>\n"
      ],
      "text/plain": [
       "\n"
      ]
     },
     "metadata": {},
     "output_type": "display_data"
    },
    {
     "data": {
      "text/html": [
       "<pre style=\"white-space:pre;overflow-x:auto;line-height:normal;font-family:Menlo,'DejaVu Sans Mono',consolas,'Courier New',monospace\"><span style=\"font-style: italic\">                       Documents Summary                       </span>\n",
       "                                                               \n",
       "  Length                 100                                   \n",
       "  Homogenous Documents   True                                  \n",
       "  Common Attributes      ('id', 'tensor', 'mime_type', 'uri')  \n",
       "                                                               \n",
       "<span style=\"font-style: italic\">                      Attributes Summary                       </span>\n",
       "                                                               \n",
       " <span style=\"font-weight: bold\"> Attribute </span> <span style=\"font-weight: bold\"> Data type    </span> <span style=\"font-weight: bold\"> #Unique values </span> <span style=\"font-weight: bold\"> Has empty value </span> \n",
       " ───────────────────────────────────────────────────────────── \n",
       "  id          ('str',)       100              False            \n",
       "  mime_type   ('str',)       1                False            \n",
       "  tensor      ('ndarray',)   100              False            \n",
       "  uri         ('str',)       100              False            \n",
       "                                                               \n",
       "</pre>\n"
      ],
      "text/plain": [
       "\u001b[3m                       Documents Summary                       \u001b[0m\n",
       "                                                               \n",
       "  Length                 100                                   \n",
       "  Homogenous Documents   True                                  \n",
       "  Common Attributes      ('id', 'tensor', 'mime_type', 'uri')  \n",
       "                                                               \n",
       "\u001b[3m                      Attributes Summary                       \u001b[0m\n",
       "                                                               \n",
       " \u001b[1m \u001b[0m\u001b[1mAttribute\u001b[0m\u001b[1m \u001b[0m \u001b[1m \u001b[0m\u001b[1mData type   \u001b[0m\u001b[1m \u001b[0m \u001b[1m \u001b[0m\u001b[1m#Unique values\u001b[0m\u001b[1m \u001b[0m \u001b[1m \u001b[0m\u001b[1mHas empty value\u001b[0m\u001b[1m \u001b[0m \n",
       " ───────────────────────────────────────────────────────────── \n",
       "  id          ('str',)       100              False            \n",
       "  mime_type   ('str',)       1                False            \n",
       "  tensor      ('ndarray',)   100              False            \n",
       "  uri         ('str',)       100              False            \n",
       "                                                               \n"
      ]
     },
     "metadata": {},
     "output_type": "display_data"
    }
   ],
   "source": [
    "# Apply pre-processing\n",
    "docs.apply(preproc)"
   ]
  },
  {
   "cell_type": "markdown",
   "id": "1414b203-1bf6-4057-a264-a8d88759b85f",
   "metadata": {
    "id": "1414b203-1bf6-4057-a264-a8d88759b85f"
   },
   "source": [
    "## Embed images"
   ]
  },
  {
   "cell_type": "code",
   "execution_count": 18,
   "id": "e179dd28-bf2c-45ee-99e5-223e0a144a25",
   "metadata": {
    "colab": {
     "base_uri": "https://localhost:8080/",
     "height": 67,
     "referenced_widgets": [
      "79b94e8250cd45cd957a0b069cfdf8c9",
      "ccc6abe83f2741dcade669cda53c1b58",
      "9ea3bfe3da3248f69de59c49cb86f87e",
      "579539b504254d77aad1c8ab56014000",
      "ac635a84c59041508fd05581b79331a4",
      "8b4077879bca4332a6368a0bd539cb00",
      "c959275d04f741bb876e012c17007571",
      "117d7c13078f4e2aa7268baa50b2a957",
      "d67cd7d0f9fe4e838423e6960a75d830",
      "40ac64bdb3f748518fc8702ddf1f49a6",
      "057516d90e52441c93902797e92ef0ab"
     ]
    },
    "id": "e179dd28-bf2c-45ee-99e5-223e0a144a25",
    "outputId": "fc7adb55-450a-47a1-a7cc-c2315bcc725b"
   },
   "outputs": [
    {
     "name": "stderr",
     "output_type": "stream",
     "text": [
      "Downloading: \"https://download.pytorch.org/models/resnet50-0676ba61.pth\" to C:\\Users\\MBRO/.cache\\torch\\hub\\checkpoints\\resnet50-0676ba61.pth\n",
      "80.9%IOPub message rate exceeded.\n",
      "The Jupyter server will temporarily stop sending output\n",
      "to the client in order to avoid crashing it.\n",
      "To change this limit, set the config variable\n",
      "`--ServerApp.iopub_msg_rate_limit`.\n",
      "\n",
      "Current values:\n",
      "ServerApp.iopub_msg_rate_limit=1000.0 (msgs/sec)\n",
      "ServerApp.rate_limit_window=3.0 (secs)\n",
      "\n",
      "100.0%\n"
     ]
    }
   ],
   "source": [
    "# Convert images into embeddings\n",
    "model = torchvision.models.resnet50(pretrained=True)"
   ]
  },
  {
   "cell_type": "code",
   "execution_count": 20,
   "id": "8c928a0a-cd04-4699-8a3b-29e9416f0c75",
   "metadata": {
    "colab": {
     "base_uri": "https://localhost:8080/",
     "height": 281
    },
    "id": "8c928a0a-cd04-4699-8a3b-29e9416f0c75",
    "outputId": "1aa64534-171e-47db-8050-2e8b44185b32"
   },
   "outputs": [
    {
     "data": {
      "text/html": [
       "<pre style=\"white-space:pre;overflow-x:auto;line-height:normal;font-family:Menlo,'DejaVu Sans Mono',consolas,'Courier New',monospace\"><span style=\"font-style: italic\">                             Documents Summary                              </span>\n",
       "                                                                            \n",
       "  Length                 100                                                \n",
       "  Homogenous Documents   True                                               \n",
       "  Common Attributes      ('id', 'tensor', 'mime_type', 'uri', 'embedding')  \n",
       "                                                                            \n",
       "<span style=\"font-style: italic\">                      Attributes Summary                       </span>\n",
       "                                                               \n",
       " <span style=\"font-weight: bold\"> Attribute </span> <span style=\"font-weight: bold\"> Data type    </span> <span style=\"font-weight: bold\"> #Unique values </span> <span style=\"font-weight: bold\"> Has empty value </span> \n",
       " ───────────────────────────────────────────────────────────── \n",
       "  embedding   ('Tensor',)    100              False            \n",
       "  id          ('str',)       100              False            \n",
       "  mime_type   ('str',)       1                False            \n",
       "  tensor      ('ndarray',)   100              False            \n",
       "  uri         ('str',)       100              False            \n",
       "                                                               \n",
       "</pre>\n"
      ],
      "text/plain": [
       "\u001b[3m                             Documents Summary                              \u001b[0m\n",
       "                                                                            \n",
       "  Length                 100                                                \n",
       "  Homogenous Documents   True                                               \n",
       "  Common Attributes      ('id', 'tensor', 'mime_type', 'uri', 'embedding')  \n",
       "                                                                            \n",
       "\u001b[3m                      Attributes Summary                       \u001b[0m\n",
       "                                                               \n",
       " \u001b[1m \u001b[0m\u001b[1mAttribute\u001b[0m\u001b[1m \u001b[0m \u001b[1m \u001b[0m\u001b[1mData type   \u001b[0m\u001b[1m \u001b[0m \u001b[1m \u001b[0m\u001b[1m#Unique values\u001b[0m\u001b[1m \u001b[0m \u001b[1m \u001b[0m\u001b[1mHas empty value\u001b[0m\u001b[1m \u001b[0m \n",
       " ───────────────────────────────────────────────────────────── \n",
       "  embedding   ('Tensor',)    100              False            \n",
       "  id          ('str',)       100              False            \n",
       "  mime_type   ('str',)       1                False            \n",
       "  tensor      ('ndarray',)   100              False            \n",
       "  uri         ('str',)       100              False            \n",
       "                                                               \n"
      ]
     },
     "metadata": {},
     "output_type": "display_data"
    }
   ],
   "source": [
    "docs.embed(model, device=\"cpu\")  # turn this into GPU if available"
   ]
  },
  {
   "cell_type": "markdown",
   "id": "d1de6557-82e9-4309-a4eb-c69c768809d5",
   "metadata": {
    "id": "d1de6557-82e9-4309-a4eb-c69c768809d5"
   },
   "source": [
    "##Query image\n",
    "\n"
   ]
  },
  {
   "cell_type": "code",
   "execution_count": 28,
   "id": "6c7e7ec4-6976-4df6-ac69-3279b7b869b4",
   "metadata": {},
   "outputs": [
    {
     "data": {
      "text/plain": [
       "'dataset/dataset/1.jpg'"
      ]
     },
     "execution_count": 28,
     "metadata": {},
     "output_type": "execute_result"
    }
   ],
   "source": [
    "f\"{data_dir}/1.jpg\""
   ]
  },
  {
   "cell_type": "code",
   "execution_count": 21,
   "id": "7a732acb-b3ea-4115-b2f9-3950912d7095",
   "metadata": {
    "id": "7a732acb-b3ea-4115-b2f9-3950912d7095"
   },
   "outputs": [],
   "source": [
    "# Create Query image\n",
    "query_doc = Document(uri=f\"{data_dir}/1.jpg\")"
   ]
  },
  {
   "cell_type": "code",
   "execution_count": 22,
   "id": "779f8a99-599e-4cf7-9196-e808f4645f19",
   "metadata": {
    "colab": {
     "base_uri": "https://localhost:8080/"
    },
    "id": "779f8a99-599e-4cf7-9196-e808f4645f19",
    "outputId": "eab51074-c2f9-40f6-ddd1-608cfc93a00e"
   },
   "outputs": [
    {
     "data": {
      "text/html": [
       "<pre style=\"white-space:pre;overflow-x:auto;line-height:normal;font-family:Menlo,'DejaVu Sans Mono',consolas,'Courier New',monospace\">📄 <span style=\"font-weight: bold\">Document</span>: <span style=\"color: #008080; text-decoration-color: #008080\">cc2a439860e90ad4c33aed1de56d5f1d</span>\n",
       "┏━━━━━━━━━━━┳━━━━━━━━━━━━━━━━━━━━━━━┓\n",
       "┃<span style=\"font-weight: bold\"> Attribute </span>┃<span style=\"font-weight: bold\"> Value                 </span>┃\n",
       "┡━━━━━━━━━━━╇━━━━━━━━━━━━━━━━━━━━━━━┩\n",
       "│ tensor    │ [[[  0   0   0]       │\n",
       "│           │   [  0   0   0]       │\n",
       "│           │   [  0   0   0]       │\n",
       "│           │   ...                 │\n",
       "│           │   [  0   0   0]       │\n",
       "│           │   [  0   0   0]       │\n",
       "│           │   [  0   0   0]]      │\n",
       "│           │                       │\n",
       "│           │  [[  0   0   0]       │\n",
       "│           │   [  0   0   0]       │\n",
       "│           │   [  0   0   0]       │\n",
       "│           │   ...                 │\n",
       "│           │   [  0   0   0]       │\n",
       "│           │   [  0   0   0]       │\n",
       "│           │   [  0   0   0]]      │\n",
       "│           │                       │\n",
       "│           │  [[  0   0   0]       │\n",
       "│           │   [  0   0   0]       │\n",
       "│           │   [  0   0   0]       │\n",
       "│           │   ...                 │\n",
       "│           │   [  0   0   0]       │\n",
       "│           │   [  0   0   0]       │\n",
       "│           │   [  0   0   0]]      │\n",
       "│           │                       │\n",
       "│           │  ...                  │\n",
       "│           │                       │\n",
       "│           │  [[113 176 220]       │\n",
       "│           │   [113 176 220]       │\n",
       "│           │   [113 176 220]       │\n",
       "│           │   ...                 │\n",
       "│           │   [166 168 163]       │\n",
       "│           │   [160 160 160]       │\n",
       "│           │   [155 155 155]]      │\n",
       "│           │                       │\n",
       "│           │  [[114 177 221]       │\n",
       "│           │   [115 178 222]       │\n",
       "│           │   [115 178 222]       │\n",
       "│           │   ...                 │\n",
       "│           │   [170 172 167]       │\n",
       "│           │   [161 161 161]       │\n",
       "│           │   [155 155 155]]      │\n",
       "│           │                       │\n",
       "│           │  [[114 177 221]       │\n",
       "│           │   [115 178 222]       │\n",
       "│           │   [115 178 222]       │\n",
       "│           │   ...                 │\n",
       "│           │   [170 173 166]       │\n",
       "│           │   [159 159 159]       │\n",
       "│           │   [153 153 153]]]     │\n",
       "│ mime_type │ image/jpeg            │\n",
       "│ uri       │ dataset/dataset/1.jpg │\n",
       "└───────────┴───────────────────────┘\n",
       "</pre>\n"
      ],
      "text/plain": [
       "📄 \u001b[1mDocument\u001b[0m: \u001b[36mcc2a439860e90ad4c33aed1de56d5f1d\u001b[0m\n",
       "┏━━━━━━━━━━━┳━━━━━━━━━━━━━━━━━━━━━━━┓\n",
       "┃\u001b[1m \u001b[0m\u001b[1mAttribute\u001b[0m\u001b[1m \u001b[0m┃\u001b[1m \u001b[0m\u001b[1mValue                \u001b[0m\u001b[1m \u001b[0m┃\n",
       "┡━━━━━━━━━━━╇━━━━━━━━━━━━━━━━━━━━━━━┩\n",
       "│ tensor    │ [[[  0   0   0]       │\n",
       "│           │   [  0   0   0]       │\n",
       "│           │   [  0   0   0]       │\n",
       "│           │   ...                 │\n",
       "│           │   [  0   0   0]       │\n",
       "│           │   [  0   0   0]       │\n",
       "│           │   [  0   0   0]]      │\n",
       "│           │                       │\n",
       "│           │  [[  0   0   0]       │\n",
       "│           │   [  0   0   0]       │\n",
       "│           │   [  0   0   0]       │\n",
       "│           │   ...                 │\n",
       "│           │   [  0   0   0]       │\n",
       "│           │   [  0   0   0]       │\n",
       "│           │   [  0   0   0]]      │\n",
       "│           │                       │\n",
       "│           │  [[  0   0   0]       │\n",
       "│           │   [  0   0   0]       │\n",
       "│           │   [  0   0   0]       │\n",
       "│           │   ...                 │\n",
       "│           │   [  0   0   0]       │\n",
       "│           │   [  0   0   0]       │\n",
       "│           │   [  0   0   0]]      │\n",
       "│           │                       │\n",
       "│           │  ...                  │\n",
       "│           │                       │\n",
       "│           │  [[113 176 220]       │\n",
       "│           │   [113 176 220]       │\n",
       "│           │   [113 176 220]       │\n",
       "│           │   ...                 │\n",
       "│           │   [166 168 163]       │\n",
       "│           │   [160 160 160]       │\n",
       "│           │   [155 155 155]]      │\n",
       "│           │                       │\n",
       "│           │  [[114 177 221]       │\n",
       "│           │   [115 178 222]       │\n",
       "│           │   [115 178 222]       │\n",
       "│           │   ...                 │\n",
       "│           │   [170 172 167]       │\n",
       "│           │   [161 161 161]       │\n",
       "│           │   [155 155 155]]      │\n",
       "│           │                       │\n",
       "│           │  [[114 177 221]       │\n",
       "│           │   [115 178 222]       │\n",
       "│           │   [115 178 222]       │\n",
       "│           │   ...                 │\n",
       "│           │   [170 173 166]       │\n",
       "│           │   [159 159 159]       │\n",
       "│           │   [153 153 153]]]     │\n",
       "│ mime_type │ image/jpeg            │\n",
       "│ uri       │ dataset/dataset/1.jpg │\n",
       "└───────────┴───────────────────────┘\n"
      ]
     },
     "metadata": {},
     "output_type": "display_data"
    }
   ],
   "source": [
    "# Convert image to tensor\n",
    "query_doc.load_uri_to_image_tensor()"
   ]
  },
  {
   "cell_type": "code",
   "execution_count": 23,
   "id": "84f11641-19e0-4baf-94b0-015bdfdb33c6",
   "metadata": {
    "id": "84f11641-19e0-4baf-94b0-015bdfdb33c6"
   },
   "outputs": [],
   "source": [
    "# Apply preprocessing\n",
    "query_doc = preproc(query_doc)"
   ]
  },
  {
   "cell_type": "code",
   "execution_count": 24,
   "id": "qN234oORusT0",
   "metadata": {
    "colab": {
     "base_uri": "https://localhost:8080/"
    },
    "id": "qN234oORusT0",
    "outputId": "1cde1c17-a912-4c71-877b-2ce43416fb5e"
   },
   "outputs": [
    {
     "data": {
      "text/html": [
       "<pre style=\"white-space:pre;overflow-x:auto;line-height:normal;font-family:Menlo,'DejaVu Sans Mono',consolas,'Courier New',monospace\">📄 <span style=\"font-weight: bold\">Document</span>: <span style=\"color: #008080; text-decoration-color: #008080\">cc2a439860e90ad4c33aed1de56d5f1d</span>\n",
       "┏━━━━━━━━━━━┳━━━━━━━━━━━━━━━━━━━━━━━━━━━━━━━━━━━━━━━━━━━━━━━━━━━━━━━━━━━━━━━━━━━━━━━━━━━┓\n",
       "┃<span style=\"font-weight: bold\"> Attribute </span>┃<span style=\"font-weight: bold\"> Value                                                                     </span>┃\n",
       "┡━━━━━━━━━━━╇━━━━━━━━━━━━━━━━━━━━━━━━━━━━━━━━━━━━━━━━━━━━━━━━━━━━━━━━━━━━━━━━━━━━━━━━━━━┩\n",
       "│ tensor    │ [[[-2.117904   -2.117904   -2.117904   ... -2.117904   -2.117904          │\n",
       "│           │    -2.117904  ]                                                           │\n",
       "│           │   [-2.117904   -2.117904   -2.117904   ... -2.117904   -2.117904          │\n",
       "│           │    -2.117904  ]                                                           │\n",
       "│           │   [-2.117904   -2.117904   -2.117904   ... -2.117904   -2.117904          │\n",
       "│           │    -2.117904  ]                                                           │\n",
       "│           │   ...                                                                     │\n",
       "│           │   [-0.18280679 -0.18280679 -0.18280679 ...  0.7590547   0.74193           │\n",
       "│           │     0.70768046]                                                           │\n",
       "│           │   [-0.18280679 -0.18280679 -0.18280679 ...  0.7590547   0.72480524        │\n",
       "│           │     0.6220567 ]                                                           │\n",
       "│           │   [-0.16568205 -0.14855729 -0.14855729 ...  0.8446785   0.79330426        │\n",
       "│           │     0.63918144]]                                                          │\n",
       "│           │                                                                           │\n",
       "│           │  [[-2.0357141  -2.0357141  -2.0357141  ... -2.0357141  -2.0357141         │\n",
       "│           │    -2.0357141 ]                                                           │\n",
       "│           │   [-2.0357141  -2.0357141  -2.0357141  ... -2.0357141  -2.0357141         │\n",
       "│           │    -2.0357141 ]                                                           │\n",
       "│           │   [-2.0357141  -2.0357141  -2.0357141  ... -2.0357141  -2.0357141         │\n",
       "│           │    -2.0357141 ]                                                           │\n",
       "│           │   ...                                                                     │\n",
       "│           │   [ 1.0455183   1.0455183   1.0455183  ...  0.94047624  0.9229692         │\n",
       "│           │     0.8529412 ]                                                           │\n",
       "│           │   [ 1.0455183   1.0455183   1.0455183  ...  0.94047624  0.90546227        │\n",
       "│           │     0.76540625]                                                           │\n",
       "│           │   [ 1.0630252   1.0805323   1.0805323  ...  1.0280112   0.9754903         │\n",
       "│           │     0.78291327]]                                                          │\n",
       "│           │                                                                           │\n",
       "│           │  [[-1.8044444  -1.8044444  -1.8044444  ... -1.8044444  -1.8044444         │\n",
       "│           │    -1.8044444 ]                                                           │\n",
       "│           │   [-1.8044444  -1.8044444  -1.8044444  ... -1.8044444  -1.8044444         │\n",
       "│           │    -1.8044444 ]                                                           │\n",
       "│           │   [-1.8044444  -1.8044444  -1.8044444  ... -1.8044444  -1.8044444         │\n",
       "│           │    -1.8044444 ]                                                           │\n",
       "│           │   ...                                                                     │\n",
       "│           │   [ 2.0299783   2.0299783   2.0299783  ...  1.0713727   1.0539435         │\n",
       "│           │     1.0713727 ]                                                           │\n",
       "│           │   [ 2.0299783   2.0299783   2.0299783  ...  1.0713727   1.0365143         │\n",
       "│           │     0.98422676]                                                           │\n",
       "│           │   [ 2.0474076   2.0648367   2.0648367  ...  1.1585187   1.1062311         │\n",
       "│           │     1.0016559 ]]]                                                         │\n",
       "│ mime_type │ image/jpeg                                                                │\n",
       "│ uri       │ dataset/dataset/1.jpg                                                     │\n",
       "│ embedding │ tensor([-2.0120e+00, -2.0346e+00, -1.7741e+00, -1.2393e+00, -1.4123e+00,  │\n",
       "│           │          1.5648e+00, -1.4854e+00, -3.9362e+00, -1.9151e+00, -2.0518e-01,  │\n",
       "│           │         -4.1434e-01, -2.7955e+00, -4.9391e-01, -2.6798e+00, -2.7030e+00,  │\n",
       "│           │         -7.4882e-01, -2.9287e+00, -2.2044e+00, -1.3420e+00, -4.5513e+00,  │\n",
       "│           │         -9.5678e-01, -9.0881e-01,  4.1027e-01, -1.3319e+00,  2.3360e-01,  │\n",
       "│           │         -2.2681e+00, -2.2401e+00, -2.6478e+00, -2.1405e+00, -1.8732e+00,  │\n",
       "│           │         -5.1518e-01, -2.7588e+00, -1.8645e+00, -3.8224e+00, -1.8300e+00,  │\n",
       "│           │         -3.1047e+00, -2.2367e+00, -2.9253e+00,  9.3779e-01, -1.6592e+00,  │\n",
       "│           │         -2.3143e+00, -7.6893e-01, -3.5016e+00, -8.4179e-01, -1.5965e+00,  │\n",
       "│           │         -2.9638e+00, -2.0901e+00, -1.6264e+00, -3.2449e+00, -5.0316e+00,  │\n",
       "│           │         -2.1492e+00, -6.4454e-01, -2.2572e+00, -2.8169e+00, -2.5048e+00,  │\n",
       "│           │         -4.1895e+00, -4.7696e+00, -4.5325e+00, -1.4001e+00,  1.3386e-01,  │\n",
       "│           │          6.5062e-02, -2.6448e+00, -6.1437e-02, -2.7071e+00, -1.6134e+00,  │\n",
       "│           │         -1.3970e+00,  3.5645e-01, -2.7244e-01, -6.1750e-01, -2.8043e+00,  │\n",
       "│           │         -3.7830e+00, -2.4962e+00, -4.4883e-01,  9.4438e-01, -1.0370e+00,  │\n",
       "│           │         -9.6091e-01, -1.8017e+00, -1.2403e+00,  2.2190e+00, -2.2493e+00,  │\n",
       "│           │         -1.1509e+00, -3.2234e+00, -1.3392e-01,  7.7406e-01, -1.9721e+00,  │\n",
       "│           │         -4.1730e+00, -1.1234e+00, -3.2073e+00, -1.6032e+00, -2.2852e+00,  │\n",
       "│           │         -3.6462e+00, -3.7880e+00, -2.4745e+00, -3.7411e+00, -2.9824e+00,  │\n",
       "│           │         -3.0195e+00, -2.1926e+00, -4.1848e+00, -2.1843e+00, -1.8413e+00,  │\n",
       "│           │         -3.6242e+00, -1.3844e+00, -3.4261e+00,  5.3647e-01, -2.0636e+00,  │\n",
       "│           │         -8.2224e-01, -6.2422e-01, -3.1634e+00, -3.0634e+00, -1.7739e+00,  │\n",
       "│           │         -2.4485e+00, -5.6507e-01, -3.2702e+00, -1.6822e+00, -1.1632e+00,  │\n",
       "│           │         -3.5986e+00, -3.4075e+00,  1.8639e+00, -1.1922e+00, -3.3324e+00,  │\n",
       "│           │         -3.4795e+00, -1.8702e+00, -1.0596e+00, -2.8907e+00, -1.5333e+00,  │\n",
       "│           │         -2.9644e+00, -1.7086e-01, -3.9745e+00, -2.8022e+00, -4.4702e+00,  │\n",
       "│           │         -3.3746e+00, -3.5897e+00, -7.7215e-01, -1.4399e+00, -3.9723e+00,  │\n",
       "│           │         -3.6217e+00, -5.0370e+00, -4.2386e+00, -1.3975e+00, -4.0796e+00,  │\n",
       "│           │         -3.7327e+00, -3.1492e+00, -4.5381e+00, -4.3707e+00, -2.7693e+00,  │\n",
       "│           │         -1.0253e+00, -2.0710e+00,  3.4388e-01, -1.1005e-01, -9.4161e-01,  │\n",
       "│           │          7.1825e-01, -1.6729e-01,  3.0630e+00, -7.3299e-01,  1.0641e+00,  │\n",
       "│           │          1.9589e-01, -1.2610e+00, -5.5295e-01, -1.9948e+00, -1.9136e+00,  │\n",
       "│           │         -4.6672e-01, -1.8192e+00, -3.4933e+00,  2.4748e-01, -2.3537e+00,  │\n",
       "│           │         -1.4717e+00, -3.2048e+00, -2.7347e+00, -1.4694e+00,  1.2940e+00,  │\n",
       "│           │         -8.0271e-01, -2.8071e+00, -1.8936e+00, -9.3153e-01, -1.2931e+00,  │\n",
       "│           │         -8.4312e-01, -9.7641e-01, -1.2196e+00, -2.3465e-01, -2.0556e+00,  │\n",
       "│           │         -2.3640e+00, -2.2210e+00, -2.7218e+00, -1.7488e+00, -3.4981e+00,  │\n",
       "│           │         -9.9851e-01, -1.2267e+00, -9.3469e-01, -1.2738e+00, -1.4515e+00,  │\n",
       "│           │         -5.7767e-01, -2.1443e+00, -2.5006e+00, -1.0992e+00, -2.2452e+00,  │\n",
       "│           │          5.5717e-01, -2.7106e+00, -6.4084e-01, -1.4291e+00, -7.5408e-01,  │\n",
       "│           │         -3.6509e-01, -3.9535e+00, -2.2712e+00,  1.8849e-01,  4.7433e-01,  │\n",
       "│           │         -1.6301e+00, -1.4078e+00, -2.1851e-01, -1.0107e+00, -9.7773e-01,  │\n",
       "│           │         -1.5440e+00,  3.8573e-01, -1.2308e+00, -1.3509e+00, -1.8208e+00,  │\n",
       "│           │         -1.8807e-01,  2.2884e+00, -1.2586e+00, -7.1400e-01, -1.4101e+00,  │\n",
       "│           │          4.1524e-01, -1.3550e+00, -1.9699e-01, -8.0416e-01, -3.3396e-01,  │\n",
       "│           │         -2.6642e+00, -1.3063e+00, -1.6191e+00, -3.3760e-01, -3.2220e-01,  │\n",
       "│           │         -2.1791e+00,  2.7880e-01, -7.2228e-02, -2.0092e-01, -2.2417e+00,  │\n",
       "│           │         -2.8931e-01, -7.0527e-01, -3.1336e+00, -1.6050e+00, -1.0345e+00,  │\n",
       "│           │         -1.9963e+00, -1.0003e+00, -6.7160e-01, -1.2680e+00, -1.9524e+00,  │\n",
       "│           │         -1.9202e-01, -1.1056e+00, -1.0105e+00,  9.2612e-01, -4.6853e-02,  │\n",
       "│           │          8.1330e-01, -9.1330e-01, -3.3012e-01, -2.3138e+00, -9.9872e-02,  │\n",
       "│           │         -5.4811e-01, -5.1569e-01,  1.0356e-01,  7.7029e-01,  1.6109e+00,  │\n",
       "│           │          6.6913e-01,  5.4618e-01,  6.4554e-01, -2.1520e+00, -1.1745e+00,  │\n",
       "│           │         -1.6730e+00, -3.0888e+00, -2.4135e+00, -2.3591e+00, -9.6458e-01,  │\n",
       "│           │         -7.6242e-01, -2.0274e+00, -3.8383e-01, -2.7289e+00,  2.3941e-01,  │\n",
       "│           │         -3.1292e+00, -7.7526e-01,  2.5921e-01, -2.4827e-01,  2.6099e+00,  │\n",
       "│           │          1.3797e+00,  1.2384e+01,  1.0896e+01,  1.2050e+01,  5.8892e+00,  │\n",
       "│           │          8.8619e+00,  4.3913e+00,  1.0662e+01,  3.4853e+00,  4.0924e+00,  │\n",
       "│           │          1.5252e+00,  2.6341e+00,  6.2122e+00,  3.0515e-01, -2.6461e+00,  │\n",
       "│           │         -1.7010e+00, -1.3979e+00, -2.8129e+00, -1.6356e+00, -2.4194e+00,  │\n",
       "│           │         -2.1802e+00, -3.5931e+00, -2.0590e+00, -2.1146e+00, -5.3641e+00,  │\n",
       "│           │         -4.7073e+00,  4.7302e-01, -4.7489e+00, -2.6196e+00, -2.2192e+00,  │\n",
       "│           │         -1.6719e+00, -8.5920e-01, -1.7828e+00, -2.6359e+00, -9.7283e-01,  │\n",
       "│           │         -2.0743e+00, -1.7920e+00, -1.7917e+00, -1.2518e+00, -6.3516e-01,  │\n",
       "│           │         -1.5100e+00, -4.2967e+00, -1.9559e+00, -3.4076e+00, -1.6584e+00,  │\n",
       "│           │         -3.7401e+00, -5.8891e-01, -3.6409e+00, -3.1709e+00, -3.0392e+00,  │\n",
       "│           │          7.0249e-02,  1.9415e+00,  4.3415e+00,  9.4858e-01, -2.0699e+00,  │\n",
       "│           │          1.0616e+00, -2.9689e+00, -8.8093e-01, -8.2652e-01, -1.4130e+00,  │\n",
       "│           │          1.0017e+00, -3.5432e-01, -1.6013e+00, -3.1164e+00, -3.3280e+00,  │\n",
       "│           │         -4.2010e-01, -2.7039e+00, -1.8065e+00, -1.6070e+00, -2.7277e+00,  │\n",
       "│           │         -1.5931e+00, -2.0787e+00, -2.5956e+00, -1.7255e+00, -2.3494e+00,  │\n",
       "│           │          7.2819e-02,  2.1828e+00,  3.4486e+00,  2.0861e+00,  1.3225e+00,  │\n",
       "│           │          8.9324e-01,  1.7605e+00, -1.5447e+00, -2.2307e+00, -2.3736e+00,  │\n",
       "│           │         -5.6597e-01, -3.1065e+00, -9.5965e-01, -2.2968e+00, -1.5967e+00,  │\n",
       "│           │         -1.1655e-01,  3.4350e-01, -3.9978e+00,  1.9683e+00, -1.0122e+00,  │\n",
       "│           │         -2.5111e+00, -2.5646e+00,  7.8098e-01,  4.6862e-01, -2.9383e+00,  │\n",
       "│           │          1.0498e+00, -3.1008e+00, -1.8108e+00,  1.6416e-02,  1.1928e+00,  │\n",
       "│           │         -1.3539e+00, -2.8738e+00, -1.1642e+00, -3.2614e+00,  1.3538e+00,  │\n",
       "│           │         -1.9841e+00,  1.7469e+00, -1.9669e-02, -4.2762e+00, -1.0276e+00,  │\n",
       "│           │          9.6482e-01, -3.6382e+00, -2.5411e+00,  7.6286e-01,  1.2815e-01,  │\n",
       "│           │          1.2476e+00, -1.5501e+00,  8.0825e-01, -2.0684e-01,  3.5936e-01,  │\n",
       "│           │          2.3529e+00,  2.8478e+00, -2.3449e+00,  7.7144e-01,  3.4762e+00,  │\n",
       "│           │         -1.7465e+00,  6.6953e-01,  3.2624e+00,  2.9526e+00,  1.3187e+00,  │\n",
       "│           │         -8.8528e-02,  1.5223e+00, -1.1236e-01, -4.9131e-01,  3.4190e+00,  │\n",
       "│           │          4.7179e-01,  1.2777e+00,  2.6848e+00,  7.6766e-01,  3.5882e-01,  │\n",
       "│           │          6.0315e-01,  1.1925e+00,  3.4817e+00,  3.7751e+00, -1.1671e-01,  │\n",
       "│           │         -1.7334e-01,  1.8271e+00, -9.4342e-01, -1.1034e+00,  1.2531e+00,  │\n",
       "│           │          5.0610e+00, -2.0235e+00, -1.4081e-01,  2.2479e+00,  1.4266e-01,  │\n",
       "│           │          7.4346e-02,  5.2032e-01,  2.2047e+00,  4.0198e+00,  5.6545e-02,  │\n",
       "│           │         -1.9068e+00,  2.4648e+00, -7.3611e-01, -5.9791e-01, -1.0797e+00,  │\n",
       "│           │          1.9403e+00, -2.7425e-01,  1.6403e+00,  3.1844e+00, -2.8163e-01,  │\n",
       "│           │         -1.7735e+00,  3.5349e+00,  4.7215e+00, -9.0759e-01,  7.8741e-01,  │\n",
       "│           │         -2.0661e-01,  1.5775e+00,  4.0734e+00,  4.4348e+00,  4.6534e-01,  │\n",
       "│           │          2.9301e+00, -1.3036e-01, -1.6407e+00, -4.6020e-01,  4.4624e+00,  │\n",
       "│           │          1.3336e-01,  9.4687e-01, -9.1859e-01,  2.3108e+00, -1.5539e+00,  │\n",
       "│           │          2.3594e+00, -2.8466e-01,  4.9263e-01,  4.7279e+00,  3.5384e-01,  │\n",
       "│           │          5.6173e-01,  4.6895e-01, -1.3334e+00, -7.4143e-02, -4.5673e-01,  │\n",
       "│           │         -7.8601e-01, -5.4859e-01,  8.1061e-01, -4.9879e-01, -1.6037e+00,  │\n",
       "│           │         -6.0664e-01, -1.1675e+00, -2.6415e-01,  1.0565e+00,  3.4009e+00,  │\n",
       "│           │         -1.7607e+00,  5.9955e-01,  1.7667e+00,  3.1449e-01,  2.7290e+00,  │\n",
       "│           │         -2.8388e+00,  3.6333e+00,  1.3535e+00, -1.8861e-01,  1.9519e+00,  │\n",
       "│           │         -8.1685e-01, -1.5642e+00,  4.8344e-01,  4.3456e+00, -1.8528e+00,  │\n",
       "│           │         -1.3714e+00, -2.5197e+00,  4.5674e-01, -1.1924e+00,  4.7846e-01,  │\n",
       "│           │          6.9577e-01,  3.5789e+00,  1.4857e+00,  1.7618e+00,  3.4883e+00,  │\n",
       "│           │          2.0068e+00,  1.2650e+00,  1.2489e+00,  2.2153e+00,  7.0208e-01,  │\n",
       "│           │          3.2704e-02,  3.2312e+00,  4.2178e+00, -4.8890e-01,  1.1792e+00,  │\n",
       "│           │          1.0158e+00, -1.5448e+00,  2.5398e+00,  1.2449e-01,  3.2990e+00,  │\n",
       "│           │         -1.2389e+00,  6.3900e-01, -1.5935e+00, -1.5513e+00,  4.6592e+00,  │\n",
       "│           │         -7.2446e-01,  3.2865e-01,  1.6449e+00,  3.8864e+00, -1.5182e-01,  │\n",
       "│           │          2.9646e+00, -5.9145e-02, -2.4828e+00,  2.1220e+00,  3.3164e+00,  │\n",
       "│           │          1.1205e+00, -2.9796e-02,  3.8251e+00,  3.4168e+00, -2.4792e+00,  │\n",
       "│           │         -2.5663e-01,  2.5307e+00,  2.6520e+00, -6.1094e-01,  3.3870e+00,  │\n",
       "│           │         -1.3829e-01, -7.3666e-03,  8.5749e-01, -6.9027e-01,  8.6151e-01,  │\n",
       "│           │          4.4033e-01, -1.4190e+00,  3.3336e+00,  1.2543e+00, -5.9033e-01,  │\n",
       "│           │          2.4931e+00, -1.6540e-02,  2.8965e-01, -1.3217e+00,  4.4257e-01,  │\n",
       "│           │         -2.1390e+00, -2.5766e+00,  2.3718e+00, -1.6861e+00, -6.0146e-01,  │\n",
       "│           │         -5.2196e-01, -2.2418e-01,  1.5153e+00,  3.2266e+00,  2.2779e+00,  │\n",
       "│           │         -2.2518e-01,  1.3307e+00,  1.8768e+00,  3.9480e+00, -8.3062e-01,  │\n",
       "│           │          9.3413e-01,  1.3520e+00,  4.7616e-02,  1.8348e+00, -1.1451e+00,  │\n",
       "│           │         -1.8435e+00,  3.4712e+00, -6.4637e-01,  1.4486e+00, -1.6341e-01,  │\n",
       "│           │          5.2613e+00,  1.0763e+00,  1.9760e+00, -7.8847e-01,  3.2427e-01,  │\n",
       "│           │         -1.1585e+00,  2.5103e+00, -9.2598e-03,  2.7963e+00, -4.4883e+00,  │\n",
       "│           │          2.5008e+00,  2.5018e+00, -7.1711e-01,  6.5281e-01, -4.3331e-01,  │\n",
       "│           │          3.0075e+00, -1.6050e+00,  1.8142e+00,  1.0715e+00,  8.0469e-01,  │\n",
       "│           │          3.8216e+00, -1.2779e+00,  1.9465e+00,  1.9011e+00,  6.3957e-01,  │\n",
       "│           │          6.1092e-01, -1.0240e+00, -1.7698e+00, -1.6346e+00, -1.8261e+00,  │\n",
       "│           │         -6.2031e-01,  6.2429e-01,  1.3236e+00,  2.4264e+00, -3.8894e-01,  │\n",
       "│           │          1.9361e+00,  2.4193e+00,  1.1096e+00,  7.2274e-01,  2.5109e-01,  │\n",
       "│           │         -1.3153e+00,  4.2069e-01,  5.0851e-03,  1.2551e+00, -3.5636e-01,  │\n",
       "│           │         -9.6317e-01,  1.4951e+00,  6.4661e-02,  6.4590e-01,  4.8397e-01,  │\n",
       "│           │         -2.5074e-01,  3.4824e+00,  5.4441e-01,  2.3340e+00, -1.1421e+00,  │\n",
       "│           │          5.7194e-01, -1.2515e-01,  8.9884e-01,  9.8784e-01,  1.6514e+00,  │\n",
       "│           │          2.2671e+00, -1.0930e+00,  2.3905e+00,  1.3564e+00,  4.9714e+00,  │\n",
       "│           │          1.8149e+00,  7.9870e-01,  1.1522e+00, -2.1243e+00,  4.1758e-01,  │\n",
       "│           │          2.1639e+00,  3.7779e-01,  5.9241e-01,  4.4536e+00,  2.0317e+00,  │\n",
       "│           │          1.2494e+00,  1.0322e+00,  1.7923e+00,  3.5339e+00, -1.4674e+00,  │\n",
       "│           │          2.4684e+00,  2.6042e+00, -2.5584e-01, -1.1954e+00,  7.9028e-03,  │\n",
       "│           │         -2.9227e+00,  8.7924e-01, -1.4319e+00, -9.1677e-01, -4.3209e-01,  │\n",
       "│           │         -1.9025e+00,  2.4536e+00,  3.0354e+00,  1.3226e+00,  3.1975e-01,  │\n",
       "│           │          2.0021e-01, -1.2926e-01,  1.7584e-01, -9.1838e-01,  9.6831e-01,  │\n",
       "│           │          5.2910e+00,  2.9844e+00,  5.8870e-01,  1.4049e+00, -1.7157e+00,  │\n",
       "│           │         -6.2934e-01, -3.7376e-01,  1.3429e+00,  2.1034e+00,  1.0892e+00,  │\n",
       "│           │         -1.4361e+00, -1.6651e+00,  7.3001e-01,  1.3811e+00,  1.7645e+00,  │\n",
       "│           │          1.6474e-01,  2.1312e-01,  1.3503e-01,  1.2689e+00, -8.4497e-01,  │\n",
       "│           │          2.0453e-01,  8.5118e-01,  5.2847e+00,  1.4513e+00,  3.6675e-01,  │\n",
       "│           │          1.6992e+00, -3.1560e-01,  8.9397e-01,  7.3855e+00,  2.7028e+00,  │\n",
       "│           │         -7.4434e-01,  3.0875e+00, -3.3361e+00,  2.5349e+00, -2.1389e+00,  │\n",
       "│           │          1.6076e+00,  2.4166e+00, -1.0197e+00, -1.9061e-01,  3.5217e-01,  │\n",
       "│           │         -5.3531e-01,  2.1489e+00,  4.6505e+00,  2.8226e-01,  2.7987e+00,  │\n",
       "│           │         -9.1782e-01,  2.9150e+00,  5.6065e+00,  9.2240e-01,  7.1716e-01,  │\n",
       "│           │          3.7762e+00,  8.1095e-02,  1.0696e-01,  4.2705e+00,  5.8154e-01,  │\n",
       "│           │          7.2332e-01,  3.2130e+00, -4.3300e-01,  1.5811e+00, -1.7529e+00,  │\n",
       "│           │          5.4901e+00,  3.7347e+00, -2.1139e-01,  1.9379e+00,  2.5998e+00,  │\n",
       "│           │          2.2981e+00,  1.6135e+00,  1.9730e-01,  1.2990e+00,  4.8510e+00,  │\n",
       "│           │         -3.8063e-02, -4.7691e-01,  2.6096e+00, -2.6196e-01, -1.5495e+00,  │\n",
       "│           │         -2.4992e-01, -7.9078e-01,  7.6466e-01,  3.8268e+00, -9.6773e-01,  │\n",
       "│           │          1.0997e+00,  1.2009e+00,  6.8170e+00,  1.6299e+00,  1.0239e+00,  │\n",
       "│           │         -8.1639e-01,  1.4512e+00,  1.5251e+00, -2.9979e+00,  2.1358e+00,  │\n",
       "│           │          1.5616e+00,  5.2401e-01,  5.0052e+00,  1.6057e+00,  3.3213e+00,  │\n",
       "│           │          4.0625e+00,  1.7655e+00,  4.7937e+00,  1.2300e-02,  2.3065e+00,  │\n",
       "│           │         -1.3764e-01,  7.8359e-02,  6.0890e-01,  1.5554e+00,  1.2820e+00,  │\n",
       "│           │          4.5169e-01,  2.3781e+00,  2.2981e+00,  8.3417e-01,  7.1085e-01,  │\n",
       "│           │          1.6317e+00,  4.9978e+00,  1.1532e+00,  2.7168e+00,  1.9292e+00,  │\n",
       "│           │          9.9763e-01,  3.0423e-01,  1.7489e-01,  2.3465e+00, -1.5578e+00,  │\n",
       "│           │         -6.8863e-01,  3.2306e-01, -1.9470e-02,  1.6137e+00, -3.3640e-01,  │\n",
       "│           │          3.7144e-01,  2.3153e-01,  2.0172e+00,  7.1607e-01, -1.6788e-01,  │\n",
       "│           │          1.9817e+00,  3.4988e+00,  5.1451e-01,  8.1973e-01,  6.8528e-01,  │\n",
       "│           │         -3.9854e-01,  1.5241e+00,  1.1031e+00,  1.1378e+00,  5.0855e-01,  │\n",
       "│           │          3.5681e+00,  4.2363e+00,  1.5337e+00,  1.3720e+00,  1.5704e+00,  │\n",
       "│           │          2.4531e+00,  1.7237e+00, -4.2800e-01, -8.5092e-01, -2.1979e-01,  │\n",
       "│           │         -5.6284e-01,  5.3986e+00,  3.4495e+00, -8.2928e-01,  1.0236e+00,  │\n",
       "│           │          2.2123e+00,  1.1188e+00,  6.1450e-01, -2.4868e-01,  2.3510e+00,  │\n",
       "│           │          1.6756e+00,  4.4975e+00, -3.4399e-01,  2.3363e-01,  6.6678e-01,  │\n",
       "│           │          2.0971e+00,  9.1114e-01,  3.6470e+00,  1.6334e+00,  8.0608e-01,  │\n",
       "│           │          5.8816e-01,  8.4676e-01,  2.6051e+00,  1.3874e-01, -3.2617e+00,  │\n",
       "│           │         -6.6021e-01,  5.0740e+00, -8.2637e-01,  1.2168e+00,  2.1595e+00,  │\n",
       "│           │          1.8547e+00,  2.3151e+00,  9.7022e-01,  1.3411e+00, -3.6795e-01,  │\n",
       "│           │          3.4351e+00,  1.5809e+00,  1.5524e+00,  9.4679e-01,  1.8063e-01,  │\n",
       "│           │         -4.4045e-01,  1.0263e+00,  2.5742e+00,  6.8016e-01,  4.4252e+00,  │\n",
       "│           │          1.6701e+00,  5.1796e+00,  4.2000e+00, -1.0043e+00,  2.4921e+00,  │\n",
       "│           │         -2.3658e-02,  1.3636e+00,  2.2299e+00,  7.7451e-01,  6.6717e+00,  │\n",
       "│           │          3.9531e+00,  1.2829e+00,  3.4077e-01,  1.2304e+00,  3.1971e+00,  │\n",
       "│           │          6.9220e-01,  6.9185e-01,  1.9338e+00, -1.8133e+00,  4.3538e-01,  │\n",
       "│           │         -8.3035e-01,  3.8042e+00,  3.0861e+00,  2.1309e+00,  2.5324e+00,  │\n",
       "│           │          9.5435e-01,  2.7933e+00, -1.8585e-01,  1.0092e+00, -1.4642e+00,  │\n",
       "│           │         -5.0041e-01, -3.8908e-01, -1.8588e+00, -2.6160e+00,  1.7067e+00,  │\n",
       "│           │         -8.4024e-01, -2.9920e-01, -1.6317e+00, -4.2451e+00, -1.2574e+00,  │\n",
       "│           │          9.2080e-01, -1.1958e+00,  1.3920e+00, -4.4239e-01,  2.4135e+00,  │\n",
       "│           │          1.6520e+00, -1.2058e+00,  1.1523e+00,  1.0144e-01, -2.5340e+00,  │\n",
       "│           │          4.7304e-01, -1.9049e+00, -8.5733e-01,  3.6142e+00, -3.7989e-01,  │\n",
       "│           │          4.7668e-01,  1.0380e-01,  7.9517e-01, -6.0336e-01,  2.3236e+00,  │\n",
       "│           │         -1.1992e+00, -7.2358e-01, -1.6883e+00,  5.7943e-01, -1.6974e+00,  │\n",
       "│           │         -2.0313e+00, -4.0548e-01, -5.0915e-01, -9.7210e-01,  1.2233e+00,  │\n",
       "│           │         -1.9341e+00,  2.0055e-01,  3.6636e-01,  2.0997e+00,  1.9123e+00,  │\n",
       "│           │          2.2513e+00,  1.1746e-01, -2.5502e-01, -1.4130e+00,  1.4309e+00,  │\n",
       "│           │         -3.2166e-01, -1.4271e+00,  2.1015e-01,  7.9009e-01, -6.4806e-01,  │\n",
       "│           │          5.7945e-01, -1.0818e+00, -1.7735e+00, -8.4593e-01,  1.1433e-02,  │\n",
       "│           │         -1.3148e+00, -8.4136e-01,  1.7292e+00, -2.2141e+00, -2.2585e+00,  │\n",
       "│           │         -1.4450e+00, -3.6773e+00, -4.1561e+00, -3.5098e+00, -3.4339e+00,  │\n",
       "│           │         -9.5832e-01, -4.4565e-01, -3.6242e+00,  1.6338e+00,  2.2309e+00]) │\n",
       "└───────────┴───────────────────────────────────────────────────────────────────────────┘\n",
       "</pre>\n"
      ],
      "text/plain": [
       "📄 \u001b[1mDocument\u001b[0m: \u001b[36mcc2a439860e90ad4c33aed1de56d5f1d\u001b[0m\n",
       "┏━━━━━━━━━━━┳━━━━━━━━━━━━━━━━━━━━━━━━━━━━━━━━━━━━━━━━━━━━━━━━━━━━━━━━━━━━━━━━━━━━━━━━━━━┓\n",
       "┃\u001b[1m \u001b[0m\u001b[1mAttribute\u001b[0m\u001b[1m \u001b[0m┃\u001b[1m \u001b[0m\u001b[1mValue                                                                    \u001b[0m\u001b[1m \u001b[0m┃\n",
       "┡━━━━━━━━━━━╇━━━━━━━━━━━━━━━━━━━━━━━━━━━━━━━━━━━━━━━━━━━━━━━━━━━━━━━━━━━━━━━━━━━━━━━━━━━┩\n",
       "│ tensor    │ [[[-2.117904   -2.117904   -2.117904   ... -2.117904   -2.117904          │\n",
       "│           │    -2.117904  ]                                                           │\n",
       "│           │   [-2.117904   -2.117904   -2.117904   ... -2.117904   -2.117904          │\n",
       "│           │    -2.117904  ]                                                           │\n",
       "│           │   [-2.117904   -2.117904   -2.117904   ... -2.117904   -2.117904          │\n",
       "│           │    -2.117904  ]                                                           │\n",
       "│           │   ...                                                                     │\n",
       "│           │   [-0.18280679 -0.18280679 -0.18280679 ...  0.7590547   0.74193           │\n",
       "│           │     0.70768046]                                                           │\n",
       "│           │   [-0.18280679 -0.18280679 -0.18280679 ...  0.7590547   0.72480524        │\n",
       "│           │     0.6220567 ]                                                           │\n",
       "│           │   [-0.16568205 -0.14855729 -0.14855729 ...  0.8446785   0.79330426        │\n",
       "│           │     0.63918144]]                                                          │\n",
       "│           │                                                                           │\n",
       "│           │  [[-2.0357141  -2.0357141  -2.0357141  ... -2.0357141  -2.0357141         │\n",
       "│           │    -2.0357141 ]                                                           │\n",
       "│           │   [-2.0357141  -2.0357141  -2.0357141  ... -2.0357141  -2.0357141         │\n",
       "│           │    -2.0357141 ]                                                           │\n",
       "│           │   [-2.0357141  -2.0357141  -2.0357141  ... -2.0357141  -2.0357141         │\n",
       "│           │    -2.0357141 ]                                                           │\n",
       "│           │   ...                                                                     │\n",
       "│           │   [ 1.0455183   1.0455183   1.0455183  ...  0.94047624  0.9229692         │\n",
       "│           │     0.8529412 ]                                                           │\n",
       "│           │   [ 1.0455183   1.0455183   1.0455183  ...  0.94047624  0.90546227        │\n",
       "│           │     0.76540625]                                                           │\n",
       "│           │   [ 1.0630252   1.0805323   1.0805323  ...  1.0280112   0.9754903         │\n",
       "│           │     0.78291327]]                                                          │\n",
       "│           │                                                                           │\n",
       "│           │  [[-1.8044444  -1.8044444  -1.8044444  ... -1.8044444  -1.8044444         │\n",
       "│           │    -1.8044444 ]                                                           │\n",
       "│           │   [-1.8044444  -1.8044444  -1.8044444  ... -1.8044444  -1.8044444         │\n",
       "│           │    -1.8044444 ]                                                           │\n",
       "│           │   [-1.8044444  -1.8044444  -1.8044444  ... -1.8044444  -1.8044444         │\n",
       "│           │    -1.8044444 ]                                                           │\n",
       "│           │   ...                                                                     │\n",
       "│           │   [ 2.0299783   2.0299783   2.0299783  ...  1.0713727   1.0539435         │\n",
       "│           │     1.0713727 ]                                                           │\n",
       "│           │   [ 2.0299783   2.0299783   2.0299783  ...  1.0713727   1.0365143         │\n",
       "│           │     0.98422676]                                                           │\n",
       "│           │   [ 2.0474076   2.0648367   2.0648367  ...  1.1585187   1.1062311         │\n",
       "│           │     1.0016559 ]]]                                                         │\n",
       "│ mime_type │ image/jpeg                                                                │\n",
       "│ uri       │ dataset/dataset/1.jpg                                                     │\n",
       "│ embedding │ tensor([-2.0120e+00, -2.0346e+00, -1.7741e+00, -1.2393e+00, -1.4123e+00,  │\n",
       "│           │          1.5648e+00, -1.4854e+00, -3.9362e+00, -1.9151e+00, -2.0518e-01,  │\n",
       "│           │         -4.1434e-01, -2.7955e+00, -4.9391e-01, -2.6798e+00, -2.7030e+00,  │\n",
       "│           │         -7.4882e-01, -2.9287e+00, -2.2044e+00, -1.3420e+00, -4.5513e+00,  │\n",
       "│           │         -9.5678e-01, -9.0881e-01,  4.1027e-01, -1.3319e+00,  2.3360e-01,  │\n",
       "│           │         -2.2681e+00, -2.2401e+00, -2.6478e+00, -2.1405e+00, -1.8732e+00,  │\n",
       "│           │         -5.1518e-01, -2.7588e+00, -1.8645e+00, -3.8224e+00, -1.8300e+00,  │\n",
       "│           │         -3.1047e+00, -2.2367e+00, -2.9253e+00,  9.3779e-01, -1.6592e+00,  │\n",
       "│           │         -2.3143e+00, -7.6893e-01, -3.5016e+00, -8.4179e-01, -1.5965e+00,  │\n",
       "│           │         -2.9638e+00, -2.0901e+00, -1.6264e+00, -3.2449e+00, -5.0316e+00,  │\n",
       "│           │         -2.1492e+00, -6.4454e-01, -2.2572e+00, -2.8169e+00, -2.5048e+00,  │\n",
       "│           │         -4.1895e+00, -4.7696e+00, -4.5325e+00, -1.4001e+00,  1.3386e-01,  │\n",
       "│           │          6.5062e-02, -2.6448e+00, -6.1437e-02, -2.7071e+00, -1.6134e+00,  │\n",
       "│           │         -1.3970e+00,  3.5645e-01, -2.7244e-01, -6.1750e-01, -2.8043e+00,  │\n",
       "│           │         -3.7830e+00, -2.4962e+00, -4.4883e-01,  9.4438e-01, -1.0370e+00,  │\n",
       "│           │         -9.6091e-01, -1.8017e+00, -1.2403e+00,  2.2190e+00, -2.2493e+00,  │\n",
       "│           │         -1.1509e+00, -3.2234e+00, -1.3392e-01,  7.7406e-01, -1.9721e+00,  │\n",
       "│           │         -4.1730e+00, -1.1234e+00, -3.2073e+00, -1.6032e+00, -2.2852e+00,  │\n",
       "│           │         -3.6462e+00, -3.7880e+00, -2.4745e+00, -3.7411e+00, -2.9824e+00,  │\n",
       "│           │         -3.0195e+00, -2.1926e+00, -4.1848e+00, -2.1843e+00, -1.8413e+00,  │\n",
       "│           │         -3.6242e+00, -1.3844e+00, -3.4261e+00,  5.3647e-01, -2.0636e+00,  │\n",
       "│           │         -8.2224e-01, -6.2422e-01, -3.1634e+00, -3.0634e+00, -1.7739e+00,  │\n",
       "│           │         -2.4485e+00, -5.6507e-01, -3.2702e+00, -1.6822e+00, -1.1632e+00,  │\n",
       "│           │         -3.5986e+00, -3.4075e+00,  1.8639e+00, -1.1922e+00, -3.3324e+00,  │\n",
       "│           │         -3.4795e+00, -1.8702e+00, -1.0596e+00, -2.8907e+00, -1.5333e+00,  │\n",
       "│           │         -2.9644e+00, -1.7086e-01, -3.9745e+00, -2.8022e+00, -4.4702e+00,  │\n",
       "│           │         -3.3746e+00, -3.5897e+00, -7.7215e-01, -1.4399e+00, -3.9723e+00,  │\n",
       "│           │         -3.6217e+00, -5.0370e+00, -4.2386e+00, -1.3975e+00, -4.0796e+00,  │\n",
       "│           │         -3.7327e+00, -3.1492e+00, -4.5381e+00, -4.3707e+00, -2.7693e+00,  │\n",
       "│           │         -1.0253e+00, -2.0710e+00,  3.4388e-01, -1.1005e-01, -9.4161e-01,  │\n",
       "│           │          7.1825e-01, -1.6729e-01,  3.0630e+00, -7.3299e-01,  1.0641e+00,  │\n",
       "│           │          1.9589e-01, -1.2610e+00, -5.5295e-01, -1.9948e+00, -1.9136e+00,  │\n",
       "│           │         -4.6672e-01, -1.8192e+00, -3.4933e+00,  2.4748e-01, -2.3537e+00,  │\n",
       "│           │         -1.4717e+00, -3.2048e+00, -2.7347e+00, -1.4694e+00,  1.2940e+00,  │\n",
       "│           │         -8.0271e-01, -2.8071e+00, -1.8936e+00, -9.3153e-01, -1.2931e+00,  │\n",
       "│           │         -8.4312e-01, -9.7641e-01, -1.2196e+00, -2.3465e-01, -2.0556e+00,  │\n",
       "│           │         -2.3640e+00, -2.2210e+00, -2.7218e+00, -1.7488e+00, -3.4981e+00,  │\n",
       "│           │         -9.9851e-01, -1.2267e+00, -9.3469e-01, -1.2738e+00, -1.4515e+00,  │\n",
       "│           │         -5.7767e-01, -2.1443e+00, -2.5006e+00, -1.0992e+00, -2.2452e+00,  │\n",
       "│           │          5.5717e-01, -2.7106e+00, -6.4084e-01, -1.4291e+00, -7.5408e-01,  │\n",
       "│           │         -3.6509e-01, -3.9535e+00, -2.2712e+00,  1.8849e-01,  4.7433e-01,  │\n",
       "│           │         -1.6301e+00, -1.4078e+00, -2.1851e-01, -1.0107e+00, -9.7773e-01,  │\n",
       "│           │         -1.5440e+00,  3.8573e-01, -1.2308e+00, -1.3509e+00, -1.8208e+00,  │\n",
       "│           │         -1.8807e-01,  2.2884e+00, -1.2586e+00, -7.1400e-01, -1.4101e+00,  │\n",
       "│           │          4.1524e-01, -1.3550e+00, -1.9699e-01, -8.0416e-01, -3.3396e-01,  │\n",
       "│           │         -2.6642e+00, -1.3063e+00, -1.6191e+00, -3.3760e-01, -3.2220e-01,  │\n",
       "│           │         -2.1791e+00,  2.7880e-01, -7.2228e-02, -2.0092e-01, -2.2417e+00,  │\n",
       "│           │         -2.8931e-01, -7.0527e-01, -3.1336e+00, -1.6050e+00, -1.0345e+00,  │\n",
       "│           │         -1.9963e+00, -1.0003e+00, -6.7160e-01, -1.2680e+00, -1.9524e+00,  │\n",
       "│           │         -1.9202e-01, -1.1056e+00, -1.0105e+00,  9.2612e-01, -4.6853e-02,  │\n",
       "│           │          8.1330e-01, -9.1330e-01, -3.3012e-01, -2.3138e+00, -9.9872e-02,  │\n",
       "│           │         -5.4811e-01, -5.1569e-01,  1.0356e-01,  7.7029e-01,  1.6109e+00,  │\n",
       "│           │          6.6913e-01,  5.4618e-01,  6.4554e-01, -2.1520e+00, -1.1745e+00,  │\n",
       "│           │         -1.6730e+00, -3.0888e+00, -2.4135e+00, -2.3591e+00, -9.6458e-01,  │\n",
       "│           │         -7.6242e-01, -2.0274e+00, -3.8383e-01, -2.7289e+00,  2.3941e-01,  │\n",
       "│           │         -3.1292e+00, -7.7526e-01,  2.5921e-01, -2.4827e-01,  2.6099e+00,  │\n",
       "│           │          1.3797e+00,  1.2384e+01,  1.0896e+01,  1.2050e+01,  5.8892e+00,  │\n",
       "│           │          8.8619e+00,  4.3913e+00,  1.0662e+01,  3.4853e+00,  4.0924e+00,  │\n",
       "│           │          1.5252e+00,  2.6341e+00,  6.2122e+00,  3.0515e-01, -2.6461e+00,  │\n",
       "│           │         -1.7010e+00, -1.3979e+00, -2.8129e+00, -1.6356e+00, -2.4194e+00,  │\n",
       "│           │         -2.1802e+00, -3.5931e+00, -2.0590e+00, -2.1146e+00, -5.3641e+00,  │\n",
       "│           │         -4.7073e+00,  4.7302e-01, -4.7489e+00, -2.6196e+00, -2.2192e+00,  │\n",
       "│           │         -1.6719e+00, -8.5920e-01, -1.7828e+00, -2.6359e+00, -9.7283e-01,  │\n",
       "│           │         -2.0743e+00, -1.7920e+00, -1.7917e+00, -1.2518e+00, -6.3516e-01,  │\n",
       "│           │         -1.5100e+00, -4.2967e+00, -1.9559e+00, -3.4076e+00, -1.6584e+00,  │\n",
       "│           │         -3.7401e+00, -5.8891e-01, -3.6409e+00, -3.1709e+00, -3.0392e+00,  │\n",
       "│           │          7.0249e-02,  1.9415e+00,  4.3415e+00,  9.4858e-01, -2.0699e+00,  │\n",
       "│           │          1.0616e+00, -2.9689e+00, -8.8093e-01, -8.2652e-01, -1.4130e+00,  │\n",
       "│           │          1.0017e+00, -3.5432e-01, -1.6013e+00, -3.1164e+00, -3.3280e+00,  │\n",
       "│           │         -4.2010e-01, -2.7039e+00, -1.8065e+00, -1.6070e+00, -2.7277e+00,  │\n",
       "│           │         -1.5931e+00, -2.0787e+00, -2.5956e+00, -1.7255e+00, -2.3494e+00,  │\n",
       "│           │          7.2819e-02,  2.1828e+00,  3.4486e+00,  2.0861e+00,  1.3225e+00,  │\n",
       "│           │          8.9324e-01,  1.7605e+00, -1.5447e+00, -2.2307e+00, -2.3736e+00,  │\n",
       "│           │         -5.6597e-01, -3.1065e+00, -9.5965e-01, -2.2968e+00, -1.5967e+00,  │\n",
       "│           │         -1.1655e-01,  3.4350e-01, -3.9978e+00,  1.9683e+00, -1.0122e+00,  │\n",
       "│           │         -2.5111e+00, -2.5646e+00,  7.8098e-01,  4.6862e-01, -2.9383e+00,  │\n",
       "│           │          1.0498e+00, -3.1008e+00, -1.8108e+00,  1.6416e-02,  1.1928e+00,  │\n",
       "│           │         -1.3539e+00, -2.8738e+00, -1.1642e+00, -3.2614e+00,  1.3538e+00,  │\n",
       "│           │         -1.9841e+00,  1.7469e+00, -1.9669e-02, -4.2762e+00, -1.0276e+00,  │\n",
       "│           │          9.6482e-01, -3.6382e+00, -2.5411e+00,  7.6286e-01,  1.2815e-01,  │\n",
       "│           │          1.2476e+00, -1.5501e+00,  8.0825e-01, -2.0684e-01,  3.5936e-01,  │\n",
       "│           │          2.3529e+00,  2.8478e+00, -2.3449e+00,  7.7144e-01,  3.4762e+00,  │\n",
       "│           │         -1.7465e+00,  6.6953e-01,  3.2624e+00,  2.9526e+00,  1.3187e+00,  │\n",
       "│           │         -8.8528e-02,  1.5223e+00, -1.1236e-01, -4.9131e-01,  3.4190e+00,  │\n",
       "│           │          4.7179e-01,  1.2777e+00,  2.6848e+00,  7.6766e-01,  3.5882e-01,  │\n",
       "│           │          6.0315e-01,  1.1925e+00,  3.4817e+00,  3.7751e+00, -1.1671e-01,  │\n",
       "│           │         -1.7334e-01,  1.8271e+00, -9.4342e-01, -1.1034e+00,  1.2531e+00,  │\n",
       "│           │          5.0610e+00, -2.0235e+00, -1.4081e-01,  2.2479e+00,  1.4266e-01,  │\n",
       "│           │          7.4346e-02,  5.2032e-01,  2.2047e+00,  4.0198e+00,  5.6545e-02,  │\n",
       "│           │         -1.9068e+00,  2.4648e+00, -7.3611e-01, -5.9791e-01, -1.0797e+00,  │\n",
       "│           │          1.9403e+00, -2.7425e-01,  1.6403e+00,  3.1844e+00, -2.8163e-01,  │\n",
       "│           │         -1.7735e+00,  3.5349e+00,  4.7215e+00, -9.0759e-01,  7.8741e-01,  │\n",
       "│           │         -2.0661e-01,  1.5775e+00,  4.0734e+00,  4.4348e+00,  4.6534e-01,  │\n",
       "│           │          2.9301e+00, -1.3036e-01, -1.6407e+00, -4.6020e-01,  4.4624e+00,  │\n",
       "│           │          1.3336e-01,  9.4687e-01, -9.1859e-01,  2.3108e+00, -1.5539e+00,  │\n",
       "│           │          2.3594e+00, -2.8466e-01,  4.9263e-01,  4.7279e+00,  3.5384e-01,  │\n",
       "│           │          5.6173e-01,  4.6895e-01, -1.3334e+00, -7.4143e-02, -4.5673e-01,  │\n",
       "│           │         -7.8601e-01, -5.4859e-01,  8.1061e-01, -4.9879e-01, -1.6037e+00,  │\n",
       "│           │         -6.0664e-01, -1.1675e+00, -2.6415e-01,  1.0565e+00,  3.4009e+00,  │\n",
       "│           │         -1.7607e+00,  5.9955e-01,  1.7667e+00,  3.1449e-01,  2.7290e+00,  │\n",
       "│           │         -2.8388e+00,  3.6333e+00,  1.3535e+00, -1.8861e-01,  1.9519e+00,  │\n",
       "│           │         -8.1685e-01, -1.5642e+00,  4.8344e-01,  4.3456e+00, -1.8528e+00,  │\n",
       "│           │         -1.3714e+00, -2.5197e+00,  4.5674e-01, -1.1924e+00,  4.7846e-01,  │\n",
       "│           │          6.9577e-01,  3.5789e+00,  1.4857e+00,  1.7618e+00,  3.4883e+00,  │\n",
       "│           │          2.0068e+00,  1.2650e+00,  1.2489e+00,  2.2153e+00,  7.0208e-01,  │\n",
       "│           │          3.2704e-02,  3.2312e+00,  4.2178e+00, -4.8890e-01,  1.1792e+00,  │\n",
       "│           │          1.0158e+00, -1.5448e+00,  2.5398e+00,  1.2449e-01,  3.2990e+00,  │\n",
       "│           │         -1.2389e+00,  6.3900e-01, -1.5935e+00, -1.5513e+00,  4.6592e+00,  │\n",
       "│           │         -7.2446e-01,  3.2865e-01,  1.6449e+00,  3.8864e+00, -1.5182e-01,  │\n",
       "│           │          2.9646e+00, -5.9145e-02, -2.4828e+00,  2.1220e+00,  3.3164e+00,  │\n",
       "│           │          1.1205e+00, -2.9796e-02,  3.8251e+00,  3.4168e+00, -2.4792e+00,  │\n",
       "│           │         -2.5663e-01,  2.5307e+00,  2.6520e+00, -6.1094e-01,  3.3870e+00,  │\n",
       "│           │         -1.3829e-01, -7.3666e-03,  8.5749e-01, -6.9027e-01,  8.6151e-01,  │\n",
       "│           │          4.4033e-01, -1.4190e+00,  3.3336e+00,  1.2543e+00, -5.9033e-01,  │\n",
       "│           │          2.4931e+00, -1.6540e-02,  2.8965e-01, -1.3217e+00,  4.4257e-01,  │\n",
       "│           │         -2.1390e+00, -2.5766e+00,  2.3718e+00, -1.6861e+00, -6.0146e-01,  │\n",
       "│           │         -5.2196e-01, -2.2418e-01,  1.5153e+00,  3.2266e+00,  2.2779e+00,  │\n",
       "│           │         -2.2518e-01,  1.3307e+00,  1.8768e+00,  3.9480e+00, -8.3062e-01,  │\n",
       "│           │          9.3413e-01,  1.3520e+00,  4.7616e-02,  1.8348e+00, -1.1451e+00,  │\n",
       "│           │         -1.8435e+00,  3.4712e+00, -6.4637e-01,  1.4486e+00, -1.6341e-01,  │\n",
       "│           │          5.2613e+00,  1.0763e+00,  1.9760e+00, -7.8847e-01,  3.2427e-01,  │\n",
       "│           │         -1.1585e+00,  2.5103e+00, -9.2598e-03,  2.7963e+00, -4.4883e+00,  │\n",
       "│           │          2.5008e+00,  2.5018e+00, -7.1711e-01,  6.5281e-01, -4.3331e-01,  │\n",
       "│           │          3.0075e+00, -1.6050e+00,  1.8142e+00,  1.0715e+00,  8.0469e-01,  │\n",
       "│           │          3.8216e+00, -1.2779e+00,  1.9465e+00,  1.9011e+00,  6.3957e-01,  │\n",
       "│           │          6.1092e-01, -1.0240e+00, -1.7698e+00, -1.6346e+00, -1.8261e+00,  │\n",
       "│           │         -6.2031e-01,  6.2429e-01,  1.3236e+00,  2.4264e+00, -3.8894e-01,  │\n",
       "│           │          1.9361e+00,  2.4193e+00,  1.1096e+00,  7.2274e-01,  2.5109e-01,  │\n",
       "│           │         -1.3153e+00,  4.2069e-01,  5.0851e-03,  1.2551e+00, -3.5636e-01,  │\n",
       "│           │         -9.6317e-01,  1.4951e+00,  6.4661e-02,  6.4590e-01,  4.8397e-01,  │\n",
       "│           │         -2.5074e-01,  3.4824e+00,  5.4441e-01,  2.3340e+00, -1.1421e+00,  │\n",
       "│           │          5.7194e-01, -1.2515e-01,  8.9884e-01,  9.8784e-01,  1.6514e+00,  │\n",
       "│           │          2.2671e+00, -1.0930e+00,  2.3905e+00,  1.3564e+00,  4.9714e+00,  │\n",
       "│           │          1.8149e+00,  7.9870e-01,  1.1522e+00, -2.1243e+00,  4.1758e-01,  │\n",
       "│           │          2.1639e+00,  3.7779e-01,  5.9241e-01,  4.4536e+00,  2.0317e+00,  │\n",
       "│           │          1.2494e+00,  1.0322e+00,  1.7923e+00,  3.5339e+00, -1.4674e+00,  │\n",
       "│           │          2.4684e+00,  2.6042e+00, -2.5584e-01, -1.1954e+00,  7.9028e-03,  │\n",
       "│           │         -2.9227e+00,  8.7924e-01, -1.4319e+00, -9.1677e-01, -4.3209e-01,  │\n",
       "│           │         -1.9025e+00,  2.4536e+00,  3.0354e+00,  1.3226e+00,  3.1975e-01,  │\n",
       "│           │          2.0021e-01, -1.2926e-01,  1.7584e-01, -9.1838e-01,  9.6831e-01,  │\n",
       "│           │          5.2910e+00,  2.9844e+00,  5.8870e-01,  1.4049e+00, -1.7157e+00,  │\n",
       "│           │         -6.2934e-01, -3.7376e-01,  1.3429e+00,  2.1034e+00,  1.0892e+00,  │\n",
       "│           │         -1.4361e+00, -1.6651e+00,  7.3001e-01,  1.3811e+00,  1.7645e+00,  │\n",
       "│           │          1.6474e-01,  2.1312e-01,  1.3503e-01,  1.2689e+00, -8.4497e-01,  │\n",
       "│           │          2.0453e-01,  8.5118e-01,  5.2847e+00,  1.4513e+00,  3.6675e-01,  │\n",
       "│           │          1.6992e+00, -3.1560e-01,  8.9397e-01,  7.3855e+00,  2.7028e+00,  │\n",
       "│           │         -7.4434e-01,  3.0875e+00, -3.3361e+00,  2.5349e+00, -2.1389e+00,  │\n",
       "│           │          1.6076e+00,  2.4166e+00, -1.0197e+00, -1.9061e-01,  3.5217e-01,  │\n",
       "│           │         -5.3531e-01,  2.1489e+00,  4.6505e+00,  2.8226e-01,  2.7987e+00,  │\n",
       "│           │         -9.1782e-01,  2.9150e+00,  5.6065e+00,  9.2240e-01,  7.1716e-01,  │\n",
       "│           │          3.7762e+00,  8.1095e-02,  1.0696e-01,  4.2705e+00,  5.8154e-01,  │\n",
       "│           │          7.2332e-01,  3.2130e+00, -4.3300e-01,  1.5811e+00, -1.7529e+00,  │\n",
       "│           │          5.4901e+00,  3.7347e+00, -2.1139e-01,  1.9379e+00,  2.5998e+00,  │\n",
       "│           │          2.2981e+00,  1.6135e+00,  1.9730e-01,  1.2990e+00,  4.8510e+00,  │\n",
       "│           │         -3.8063e-02, -4.7691e-01,  2.6096e+00, -2.6196e-01, -1.5495e+00,  │\n",
       "│           │         -2.4992e-01, -7.9078e-01,  7.6466e-01,  3.8268e+00, -9.6773e-01,  │\n",
       "│           │          1.0997e+00,  1.2009e+00,  6.8170e+00,  1.6299e+00,  1.0239e+00,  │\n",
       "│           │         -8.1639e-01,  1.4512e+00,  1.5251e+00, -2.9979e+00,  2.1358e+00,  │\n",
       "│           │          1.5616e+00,  5.2401e-01,  5.0052e+00,  1.6057e+00,  3.3213e+00,  │\n",
       "│           │          4.0625e+00,  1.7655e+00,  4.7937e+00,  1.2300e-02,  2.3065e+00,  │\n",
       "│           │         -1.3764e-01,  7.8359e-02,  6.0890e-01,  1.5554e+00,  1.2820e+00,  │\n",
       "│           │          4.5169e-01,  2.3781e+00,  2.2981e+00,  8.3417e-01,  7.1085e-01,  │\n",
       "│           │          1.6317e+00,  4.9978e+00,  1.1532e+00,  2.7168e+00,  1.9292e+00,  │\n",
       "│           │          9.9763e-01,  3.0423e-01,  1.7489e-01,  2.3465e+00, -1.5578e+00,  │\n",
       "│           │         -6.8863e-01,  3.2306e-01, -1.9470e-02,  1.6137e+00, -3.3640e-01,  │\n",
       "│           │          3.7144e-01,  2.3153e-01,  2.0172e+00,  7.1607e-01, -1.6788e-01,  │\n",
       "│           │          1.9817e+00,  3.4988e+00,  5.1451e-01,  8.1973e-01,  6.8528e-01,  │\n",
       "│           │         -3.9854e-01,  1.5241e+00,  1.1031e+00,  1.1378e+00,  5.0855e-01,  │\n",
       "│           │          3.5681e+00,  4.2363e+00,  1.5337e+00,  1.3720e+00,  1.5704e+00,  │\n",
       "│           │          2.4531e+00,  1.7237e+00, -4.2800e-01, -8.5092e-01, -2.1979e-01,  │\n",
       "│           │         -5.6284e-01,  5.3986e+00,  3.4495e+00, -8.2928e-01,  1.0236e+00,  │\n",
       "│           │          2.2123e+00,  1.1188e+00,  6.1450e-01, -2.4868e-01,  2.3510e+00,  │\n",
       "│           │          1.6756e+00,  4.4975e+00, -3.4399e-01,  2.3363e-01,  6.6678e-01,  │\n",
       "│           │          2.0971e+00,  9.1114e-01,  3.6470e+00,  1.6334e+00,  8.0608e-01,  │\n",
       "│           │          5.8816e-01,  8.4676e-01,  2.6051e+00,  1.3874e-01, -3.2617e+00,  │\n",
       "│           │         -6.6021e-01,  5.0740e+00, -8.2637e-01,  1.2168e+00,  2.1595e+00,  │\n",
       "│           │          1.8547e+00,  2.3151e+00,  9.7022e-01,  1.3411e+00, -3.6795e-01,  │\n",
       "│           │          3.4351e+00,  1.5809e+00,  1.5524e+00,  9.4679e-01,  1.8063e-01,  │\n",
       "│           │         -4.4045e-01,  1.0263e+00,  2.5742e+00,  6.8016e-01,  4.4252e+00,  │\n",
       "│           │          1.6701e+00,  5.1796e+00,  4.2000e+00, -1.0043e+00,  2.4921e+00,  │\n",
       "│           │         -2.3658e-02,  1.3636e+00,  2.2299e+00,  7.7451e-01,  6.6717e+00,  │\n",
       "│           │          3.9531e+00,  1.2829e+00,  3.4077e-01,  1.2304e+00,  3.1971e+00,  │\n",
       "│           │          6.9220e-01,  6.9185e-01,  1.9338e+00, -1.8133e+00,  4.3538e-01,  │\n",
       "│           │         -8.3035e-01,  3.8042e+00,  3.0861e+00,  2.1309e+00,  2.5324e+00,  │\n",
       "│           │          9.5435e-01,  2.7933e+00, -1.8585e-01,  1.0092e+00, -1.4642e+00,  │\n",
       "│           │         -5.0041e-01, -3.8908e-01, -1.8588e+00, -2.6160e+00,  1.7067e+00,  │\n",
       "│           │         -8.4024e-01, -2.9920e-01, -1.6317e+00, -4.2451e+00, -1.2574e+00,  │\n",
       "│           │          9.2080e-01, -1.1958e+00,  1.3920e+00, -4.4239e-01,  2.4135e+00,  │\n",
       "│           │          1.6520e+00, -1.2058e+00,  1.1523e+00,  1.0144e-01, -2.5340e+00,  │\n",
       "│           │          4.7304e-01, -1.9049e+00, -8.5733e-01,  3.6142e+00, -3.7989e-01,  │\n",
       "│           │          4.7668e-01,  1.0380e-01,  7.9517e-01, -6.0336e-01,  2.3236e+00,  │\n",
       "│           │         -1.1992e+00, -7.2358e-01, -1.6883e+00,  5.7943e-01, -1.6974e+00,  │\n",
       "│           │         -2.0313e+00, -4.0548e-01, -5.0915e-01, -9.7210e-01,  1.2233e+00,  │\n",
       "│           │         -1.9341e+00,  2.0055e-01,  3.6636e-01,  2.0997e+00,  1.9123e+00,  │\n",
       "│           │          2.2513e+00,  1.1746e-01, -2.5502e-01, -1.4130e+00,  1.4309e+00,  │\n",
       "│           │         -3.2166e-01, -1.4271e+00,  2.1015e-01,  7.9009e-01, -6.4806e-01,  │\n",
       "│           │          5.7945e-01, -1.0818e+00, -1.7735e+00, -8.4593e-01,  1.1433e-02,  │\n",
       "│           │         -1.3148e+00, -8.4136e-01,  1.7292e+00, -2.2141e+00, -2.2585e+00,  │\n",
       "│           │         -1.4450e+00, -3.6773e+00, -4.1561e+00, -3.5098e+00, -3.4339e+00,  │\n",
       "│           │         -9.5832e-01, -4.4565e-01, -3.6242e+00,  1.6338e+00,  2.2309e+00]) │\n",
       "└───────────┴───────────────────────────────────────────────────────────────────────────┘\n"
      ]
     },
     "metadata": {},
     "output_type": "display_data"
    }
   ],
   "source": [
    "# Embed image query\n",
    "query_doc.embed(model, device=\"cpu\")"
   ]
  },
  {
   "cell_type": "markdown",
   "id": "d2a29921-b988-49f3-9384-21787655119b",
   "metadata": {
    "id": "d2a29921-b988-49f3-9384-21787655119b"
   },
   "source": [
    "## Get matches"
   ]
  },
  {
   "cell_type": "code",
   "execution_count": 25,
   "id": "4f8f9826-21c5-4cd2-81a1-494c16289dec",
   "metadata": {
    "id": "4f8f9826-21c5-4cd2-81a1-494c16289dec"
   },
   "outputs": [],
   "source": [
    "matches = query_doc.match(docs, limit=4).matches\n"
   ]
  },
  {
   "cell_type": "markdown",
   "id": "ddb6f736-c1fc-46b8-96d3-fb017f1a2c7f",
   "metadata": {
    "id": "ddb6f736-c1fc-46b8-96d3-fb017f1a2c7f"
   },
   "source": [
    "## See the results\n",
    "\n"
   ]
  },
  {
   "cell_type": "code",
   "execution_count": 26,
   "id": "975ee56f-56b5-4ccf-b54d-829f2325bbd9",
   "metadata": {
    "id": "975ee56f-56b5-4ccf-b54d-829f2325bbd9"
   },
   "outputs": [],
   "source": [
    "# Define reverse pre processing\n",
    "def reverse_preproc(d: Document):\n",
    "    return (d.set_image_tensor_channel_axis(0, -1)).set_image_tensor_inv_normalization()"
   ]
  },
  {
   "cell_type": "code",
   "execution_count": 27,
   "id": "b20ff195-300b-42ac-a14b-88bd9034ef40",
   "metadata": {
    "colab": {
     "base_uri": "https://localhost:8080/",
     "height": 319
    },
    "id": "b20ff195-300b-42ac-a14b-88bd9034ef40",
    "outputId": "8acf2dbe-f15d-4f7f-994a-9ba4f65050c4"
   },
   "outputs": [
    {
     "data": {
      "text/html": [
       "<pre style=\"white-space:pre;overflow-x:auto;line-height:normal;font-family:Menlo,'DejaVu Sans Mono',consolas,'Courier New',monospace\">\n",
       "</pre>\n"
      ],
      "text/plain": [
       "\n"
      ]
     },
     "metadata": {},
     "output_type": "display_data"
    },
    {
     "data": {
      "text/html": [
       "<pre style=\"white-space:pre;overflow-x:auto;line-height:normal;font-family:Menlo,'DejaVu Sans Mono',consolas,'Courier New',monospace\">\n",
       "</pre>\n"
      ],
      "text/plain": [
       "\n"
      ]
     },
     "metadata": {},
     "output_type": "display_data"
    },
    {
     "data": {
      "image/png": "[encoded data removed]",
      "text/plain": [
       "<Figure size 432x288 with 1 Axes>"
      ]
     },
     "metadata": {},
     "output_type": "display_data"
    }
   ],
   "source": [
    "matches.apply(reverse_preproc).plot_image_sprites()\n"
   ]
  },
  {
   "cell_type": "markdown",
   "id": "iA3F65pcnr6-",
   "metadata": {
    "id": "iA3F65pcnr6-"
   },
   "source": []
  }
 ],
 "metadata": {
  "colab": {
   "collapsed_sections": [],
   "name": "cat_search.ipynb",
   "provenance": []
  },
  "kernelspec": {
   "display_name": "Python 3 (ipykernel)",
   "language": "python",
   "name": "python3"
  },
  "language_info": {
   "codemirror_mode": {
    "name": "ipython",
    "version": 3
   },
   "file_extension": ".py",
   "mimetype": "text/x-python",
   "name": "python",
   "nbconvert_exporter": "python",
   "pygments_lexer": "ipython3",
   "version": "3.8.12"
  },
  "widgets": {
   "application/vnd.jupyter.widget-state+json": {
    "057516d90e52441c93902797e92ef0ab": {
     "model_module": "@jupyter-widgets/controls",
     "model_module_version": "1.5.0",
     "model_name": "DescriptionStyleModel",
     "state": {
      "_model_module": "@jupyter-widgets/controls",
      "_model_module_version": "1.5.0",
      "_model_name": "DescriptionStyleModel",
      "_view_count": null,
      "_view_module": "@jupyter-widgets/base",
      "_view_module_version": "1.2.0",
      "_view_name": "StyleView",
      "description_width": ""
     }
    },
    "117d7c13078f4e2aa7268baa50b2a957": {
     "model_module": "@jupyter-widgets/base",
     "model_module_version": "1.2.0",
     "model_name": "LayoutModel",
     "state": {
      "_model_module": "@jupyter-widgets/base",
      "_model_module_version": "1.2.0",
      "_model_name": "LayoutModel",
      "_view_count": null,
      "_view_module": "@jupyter-widgets/base",
      "_view_module_version": "1.2.0",
      "_view_name": "LayoutView",
      "align_content": null,
      "align_items": null,
      "align_self": null,
      "border": null,
      "bottom": null,
      "display": null,
      "flex": null,
      "flex_flow": null,
      "grid_area": null,
      "grid_auto_columns": null,
      "grid_auto_flow": null,
      "grid_auto_rows": null,
      "grid_column": null,
      "grid_gap": null,
      "grid_row": null,
      "grid_template_areas": null,
      "grid_template_columns": null,
      "grid_template_rows": null,
      "height": null,
      "justify_content": null,
      "justify_items": null,
      "left": null,
      "margin": null,
      "max_height": null,
      "max_width": null,
      "min_height": null,
      "min_width": null,
      "object_fit": null,
      "object_position": null,
      "order": null,
      "overflow": null,
      "overflow_x": null,
      "overflow_y": null,
      "padding": null,
      "right": null,
      "top": null,
      "visibility": null,
      "width": null
     }
    },
    "40ac64bdb3f748518fc8702ddf1f49a6": {
     "model_module": "@jupyter-widgets/base",
     "model_module_version": "1.2.0",
     "model_name": "LayoutModel",
     "state": {
      "_model_module": "@jupyter-widgets/base",
      "_model_module_version": "1.2.0",
      "_model_name": "LayoutModel",
      "_view_count": null,
      "_view_module": "@jupyter-widgets/base",
      "_view_module_version": "1.2.0",
      "_view_name": "LayoutView",
      "align_content": null,
      "align_items": null,
      "align_self": null,
      "border": null,
      "bottom": null,
      "display": null,
      "flex": null,
      "flex_flow": null,
      "grid_area": null,
      "grid_auto_columns": null,
      "grid_auto_flow": null,
      "grid_auto_rows": null,
      "grid_column": null,
      "grid_gap": null,
      "grid_row": null,
      "grid_template_areas": null,
      "grid_template_columns": null,
      "grid_template_rows": null,
      "height": null,
      "justify_content": null,
      "justify_items": null,
      "left": null,
      "margin": null,
      "max_height": null,
      "max_width": null,
      "min_height": null,
      "min_width": null,
      "object_fit": null,
      "object_position": null,
      "order": null,
      "overflow": null,
      "overflow_x": null,
      "overflow_y": null,
      "padding": null,
      "right": null,
      "top": null,
      "visibility": null,
      "width": null
     }
    },
    "579539b504254d77aad1c8ab56014000": {
     "model_module": "@jupyter-widgets/controls",
     "model_module_version": "1.5.0",
     "model_name": "HTMLModel",
     "state": {
      "_dom_classes": [],
      "_model_module": "@jupyter-widgets/controls",
      "_model_module_version": "1.5.0",
      "_model_name": "HTMLModel",
      "_view_count": null,
      "_view_module": "@jupyter-widgets/controls",
      "_view_module_version": "1.5.0",
      "_view_name": "HTMLView",
      "description": "",
      "description_tooltip": null,
      "layout": "IPY_MODEL_40ac64bdb3f748518fc8702ddf1f49a6",
      "placeholder": "​",
      "style": "IPY_MODEL_057516d90e52441c93902797e92ef0ab",
      "value": " 97.8M/97.8M [00:00&lt;00:00, 188MB/s]"
     }
    },
    "79b94e8250cd45cd957a0b069cfdf8c9": {
     "model_module": "@jupyter-widgets/controls",
     "model_module_version": "1.5.0",
     "model_name": "HBoxModel",
     "state": {
      "_dom_classes": [],
      "_model_module": "@jupyter-widgets/controls",
      "_model_module_version": "1.5.0",
      "_model_name": "HBoxModel",
      "_view_count": null,
      "_view_module": "@jupyter-widgets/controls",
      "_view_module_version": "1.5.0",
      "_view_name": "HBoxView",
      "box_style": "",
      "children": [
       "IPY_MODEL_ccc6abe83f2741dcade669cda53c1b58",
       "IPY_MODEL_9ea3bfe3da3248f69de59c49cb86f87e",
       "IPY_MODEL_579539b504254d77aad1c8ab56014000"
      ],
      "layout": "IPY_MODEL_ac635a84c59041508fd05581b79331a4"
     }
    },
    "8b4077879bca4332a6368a0bd539cb00": {
     "model_module": "@jupyter-widgets/base",
     "model_module_version": "1.2.0",
     "model_name": "LayoutModel",
     "state": {
      "_model_module": "@jupyter-widgets/base",
      "_model_module_version": "1.2.0",
      "_model_name": "LayoutModel",
      "_view_count": null,
      "_view_module": "@jupyter-widgets/base",
      "_view_module_version": "1.2.0",
      "_view_name": "LayoutView",
      "align_content": null,
      "align_items": null,
      "align_self": null,
      "border": null,
      "bottom": null,
      "display": null,
      "flex": null,
      "flex_flow": null,
      "grid_area": null,
      "grid_auto_columns": null,
      "grid_auto_flow": null,
      "grid_auto_rows": null,
      "grid_column": null,
      "grid_gap": null,
      "grid_row": null,
      "grid_template_areas": null,
      "grid_template_columns": null,
      "grid_template_rows": null,
      "height": null,
      "justify_content": null,
      "justify_items": null,
      "left": null,
      "margin": null,
      "max_height": null,
      "max_width": null,
      "min_height": null,
      "min_width": null,
      "object_fit": null,
      "object_position": null,
      "order": null,
      "overflow": null,
      "overflow_x": null,
      "overflow_y": null,
      "padding": null,
      "right": null,
      "top": null,
      "visibility": null,
      "width": null
     }
    },
    "9ea3bfe3da3248f69de59c49cb86f87e": {
     "model_module": "@jupyter-widgets/controls",
     "model_module_version": "1.5.0",
     "model_name": "FloatProgressModel",
     "state": {
      "_dom_classes": [],
      "_model_module": "@jupyter-widgets/controls",
      "_model_module_version": "1.5.0",
      "_model_name": "FloatProgressModel",
      "_view_count": null,
      "_view_module": "@jupyter-widgets/controls",
      "_view_module_version": "1.5.0",
      "_view_name": "ProgressView",
      "bar_style": "success",
      "description": "",
      "description_tooltip": null,
      "layout": "IPY_MODEL_117d7c13078f4e2aa7268baa50b2a957",
      "max": 102530333,
      "min": 0,
      "orientation": "horizontal",
      "style": "IPY_MODEL_d67cd7d0f9fe4e838423e6960a75d830",
      "value": 102530333
     }
    },
    "ac635a84c59041508fd05581b79331a4": {
     "model_module": "@jupyter-widgets/base",
     "model_module_version": "1.2.0",
     "model_name": "LayoutModel",
     "state": {
      "_model_module": "@jupyter-widgets/base",
      "_model_module_version": "1.2.0",
      "_model_name": "LayoutModel",
      "_view_count": null,
      "_view_module": "@jupyter-widgets/base",
      "_view_module_version": "1.2.0",
      "_view_name": "LayoutView",
      "align_content": null,
      "align_items": null,
      "align_self": null,
      "border": null,
      "bottom": null,
      "display": null,
      "flex": null,
      "flex_flow": null,
      "grid_area": null,
      "grid_auto_columns": null,
      "grid_auto_flow": null,
      "grid_auto_rows": null,
      "grid_column": null,
      "grid_gap": null,
      "grid_row": null,
      "grid_template_areas": null,
      "grid_template_columns": null,
      "grid_template_rows": null,
      "height": null,
      "justify_content": null,
      "justify_items": null,
      "left": null,
      "margin": null,
      "max_height": null,
      "max_width": null,
      "min_height": null,
      "min_width": null,
      "object_fit": null,
      "object_position": null,
      "order": null,
      "overflow": null,
      "overflow_x": null,
      "overflow_y": null,
      "padding": null,
      "right": null,
      "top": null,
      "visibility": null,
      "width": null
     }
    },
    "c959275d04f741bb876e012c17007571": {
     "model_module": "@jupyter-widgets/controls",
     "model_module_version": "1.5.0",
     "model_name": "DescriptionStyleModel",
     "state": {
      "_model_module": "@jupyter-widgets/controls",
      "_model_module_version": "1.5.0",
      "_model_name": "DescriptionStyleModel",
      "_view_count": null,
      "_view_module": "@jupyter-widgets/base",
      "_view_module_version": "1.2.0",
      "_view_name": "StyleView",
      "description_width": ""
     }
    },
    "ccc6abe83f2741dcade669cda53c1b58": {
     "model_module": "@jupyter-widgets/controls",
     "model_module_version": "1.5.0",
     "model_name": "HTMLModel",
     "state": {
      "_dom_classes": [],
      "_model_module": "@jupyter-widgets/controls",
      "_model_module_version": "1.5.0",
      "_model_name": "HTMLModel",
      "_view_count": null,
      "_view_module": "@jupyter-widgets/controls",
      "_view_module_version": "1.5.0",
      "_view_name": "HTMLView",
      "description": "",
      "description_tooltip": null,
      "layout": "IPY_MODEL_8b4077879bca4332a6368a0bd539cb00",
      "placeholder": "​",
      "style": "IPY_MODEL_c959275d04f741bb876e012c17007571",
      "value": "100%"
     }
    },
    "d67cd7d0f9fe4e838423e6960a75d830": {
     "model_module": "@jupyter-widgets/controls",
     "model_module_version": "1.5.0",
     "model_name": "ProgressStyleModel",
     "state": {
      "_model_module": "@jupyter-widgets/controls",
      "_model_module_version": "1.5.0",
      "_model_name": "ProgressStyleModel",
      "_view_count": null,
      "_view_module": "@jupyter-widgets/base",
      "_view_module_version": "1.2.0",
      "_view_name": "StyleView",
      "bar_color": null,
      "description_width": ""
     }
    }
   }
  }
 },
 "nbformat": 4,
 "nbformat_minor": 5
}
