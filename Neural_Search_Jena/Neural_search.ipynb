{
 "cells": [
  {
   "cell_type": "code",
   "execution_count": null,
   "id": "b882ff1a-3aa9-4d7a-95a0-b1ed87016ee5",
   "metadata": {},
   "outputs": [],
   "source": [
    "'''\n",
    "Image search with Docarray (a product form Jina)\n",
    "AI based image search engine \n",
    "run on local machine\n",
    "A plugin to retreive images/audio/video/text without searching google \n",
    "Search is done with neural networks, also need categorizing \n",
    "Embedding: Transform the data into vector independent of initial data type\n",
    "These vectors are then indexed in vector space \n",
    "A new unseen data point is transfered to vector and matched to vector space for correct indexing to place new data \n",
    "In short neural search use embedding to find nearest representation of given data point \n",
    "'''"
   ]
  },
  {
   "cell_type": "code",
   "execution_count": 1,
   "id": "25f2205f-aaa6-45f4-9ca8-6338cd2a6075",
   "metadata": {},
   "outputs": [],
   "source": [
    "import docarray as dc\n",
    "import numpy as np"
   ]
  },
  {
   "cell_type": "code",
   "execution_count": 2,
   "id": "9f5cff5a-3a6b-46e5-aaa5-1bf466fb6cd6",
   "metadata": {},
   "outputs": [],
   "source": [
    "toy_data_url = \"https://github.com/CatStark/example-docarray/blob/main/dataset.zip?raw=true\"\n",
    "data_dir = \"./dataset\"\n",
    "query_image = \"./1.jpg\" # image we'll use to search with\n"
   ]
  },
  {
   "cell_type": "code",
   "execution_count": null,
   "id": "271813b5-f6bf-4564-b4a3-b79ae88d3f7b",
   "metadata": {},
   "outputs": [],
   "source": [
    "from docarray import Document, DocumentArray\n",
    "import torchvision"
   ]
  }
 ],
 "metadata": {
  "kernelspec": {
   "display_name": "code",
   "language": "python",
   "name": "code"
  },
  "language_info": {
   "codemirror_mode": {
    "name": "ipython",
    "version": 3
   },
   "file_extension": ".py",
   "mimetype": "text/x-python",
   "name": "python",
   "nbconvert_exporter": "python",
   "pygments_lexer": "ipython3",
   "version": "3.8.12"
  }
 },
 "nbformat": 4,
 "nbformat_minor": 5
}
