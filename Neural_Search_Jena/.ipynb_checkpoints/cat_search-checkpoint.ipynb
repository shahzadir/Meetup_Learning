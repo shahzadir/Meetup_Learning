{
  "cells": [
    {
      "cell_type": "markdown",
      "id": "12d4ff3b-022c-492a-a0d5-65f11d05dcb4",
      "metadata": {
        "tags": [],
        "id": "12d4ff3b-022c-492a-a0d5-65f11d05dcb4"
      },
      "source": [
        "# Building a cat search engine with `docarray`\n",
        "\n",
        "[DocArray](https://docarray.jina.ai) is a library for nested, unstructured data in transit, including text, image, audio, video, 3D mesh, etc. It allows deep-learning engineers to efficiently process, embed, search, recommend, store, and transfer the data with a Pythonic API.\n",
        "\n",
        "In this example we'll use DocArray to build a simple search engine for cat images. You'll be able to upload an image of cats and find similar matches in the dataset.\n"
      ]
    },
    {
      "cell_type": "markdown",
      "id": "18b73db6-b90a-4df3-aa5e-a484d733f81b",
      "metadata": {
        "id": "18b73db6-b90a-4df3-aa5e-a484d733f81b"
      },
      "source": [
        "## Configuration\n",
        "\n",
        "We'll set up some basic variables. Feel free to adapt these for your own project!"
      ]
    },
    {
      "cell_type": "code",
      "execution_count": null,
      "id": "3c7c4c90-3fd6-406b-a0d5-fce2b09b720f",
      "metadata": {
        "id": "3c7c4c90-3fd6-406b-a0d5-fce2b09b720f"
      },
      "outputs": [],
      "source": [
        "toy_data_url = \"https://github.com/CatStark/example-docarray/blob/main/dataset.zip?raw=true\"\n",
        "data_dir = \"./dataset\"\n",
        "query_image = \"./1.jpg\" # image we'll use to search with\n",
        "\n"
      ]
    },
    {
      "cell_type": "markdown",
      "id": "9505310b-afca-42fd-98ae-a6298d915498",
      "metadata": {
        "id": "9505310b-afca-42fd-98ae-a6298d915498"
      },
      "source": [
        "## Setup"
      ]
    },
    {
      "cell_type": "code",
      "execution_count": null,
      "id": "b2ca05e5-9609-4c15-89bc-ef3616380a14",
      "metadata": {
        "id": "b2ca05e5-9609-4c15-89bc-ef3616380a14",
        "colab": {
          "base_uri": "https://localhost:8080/"
        },
        "outputId": "9f2489da-b0e5-4656-8190-e238093b1c4d"
      },
      "outputs": [
        {
          "output_type": "stream",
          "name": "stdout",
          "text": [
            "Collecting docarray==0.8.3\n",
            "  Downloading docarray-0.8.3.tar.gz (600 kB)\n",
            "\u001b[?25l\r\u001b[K     |▌                               | 10 kB 15.7 MB/s eta 0:00:01\r\u001b[K     |█                               | 20 kB 15.6 MB/s eta 0:00:01\r\u001b[K     |█▋                              | 30 kB 17.5 MB/s eta 0:00:01\r\u001b[K     |██▏                             | 40 kB 13.0 MB/s eta 0:00:01\r\u001b[K     |██▊                             | 51 kB 6.6 MB/s eta 0:00:01\r\u001b[K     |███▎                            | 61 kB 7.6 MB/s eta 0:00:01\r\u001b[K     |███▉                            | 71 kB 7.4 MB/s eta 0:00:01\r\u001b[K     |████▍                           | 81 kB 7.2 MB/s eta 0:00:01\r\u001b[K     |█████                           | 92 kB 7.8 MB/s eta 0:00:01\r\u001b[K     |█████▌                          | 102 kB 8.6 MB/s eta 0:00:01\r\u001b[K     |██████                          | 112 kB 8.6 MB/s eta 0:00:01\r\u001b[K     |██████▌                         | 122 kB 8.6 MB/s eta 0:00:01\r\u001b[K     |███████                         | 133 kB 8.6 MB/s eta 0:00:01\r\u001b[K     |███████▋                        | 143 kB 8.6 MB/s eta 0:00:01\r\u001b[K     |████████▏                       | 153 kB 8.6 MB/s eta 0:00:01\r\u001b[K     |████████▊                       | 163 kB 8.6 MB/s eta 0:00:01\r\u001b[K     |█████████▎                      | 174 kB 8.6 MB/s eta 0:00:01\r\u001b[K     |█████████▉                      | 184 kB 8.6 MB/s eta 0:00:01\r\u001b[K     |██████████▍                     | 194 kB 8.6 MB/s eta 0:00:01\r\u001b[K     |███████████                     | 204 kB 8.6 MB/s eta 0:00:01\r\u001b[K     |███████████▌                    | 215 kB 8.6 MB/s eta 0:00:01\r\u001b[K     |████████████                    | 225 kB 8.6 MB/s eta 0:00:01\r\u001b[K     |████████████▌                   | 235 kB 8.6 MB/s eta 0:00:01\r\u001b[K     |█████████████                   | 245 kB 8.6 MB/s eta 0:00:01\r\u001b[K     |█████████████▋                  | 256 kB 8.6 MB/s eta 0:00:01\r\u001b[K     |██████████████▏                 | 266 kB 8.6 MB/s eta 0:00:01\r\u001b[K     |██████████████▊                 | 276 kB 8.6 MB/s eta 0:00:01\r\u001b[K     |███████████████▎                | 286 kB 8.6 MB/s eta 0:00:01\r\u001b[K     |███████████████▉                | 296 kB 8.6 MB/s eta 0:00:01\r\u001b[K     |████████████████▍               | 307 kB 8.6 MB/s eta 0:00:01\r\u001b[K     |█████████████████               | 317 kB 8.6 MB/s eta 0:00:01\r\u001b[K     |█████████████████▌              | 327 kB 8.6 MB/s eta 0:00:01\r\u001b[K     |██████████████████              | 337 kB 8.6 MB/s eta 0:00:01\r\u001b[K     |██████████████████▌             | 348 kB 8.6 MB/s eta 0:00:01\r\u001b[K     |███████████████████             | 358 kB 8.6 MB/s eta 0:00:01\r\u001b[K     |███████████████████▋            | 368 kB 8.6 MB/s eta 0:00:01\r\u001b[K     |████████████████████▏           | 378 kB 8.6 MB/s eta 0:00:01\r\u001b[K     |████████████████████▊           | 389 kB 8.6 MB/s eta 0:00:01\r\u001b[K     |█████████████████████▎          | 399 kB 8.6 MB/s eta 0:00:01\r\u001b[K     |█████████████████████▉          | 409 kB 8.6 MB/s eta 0:00:01\r\u001b[K     |██████████████████████▍         | 419 kB 8.6 MB/s eta 0:00:01\r\u001b[K     |███████████████████████         | 430 kB 8.6 MB/s eta 0:00:01\r\u001b[K     |███████████████████████▌        | 440 kB 8.6 MB/s eta 0:00:01\r\u001b[K     |████████████████████████        | 450 kB 8.6 MB/s eta 0:00:01\r\u001b[K     |████████████████████████▌       | 460 kB 8.6 MB/s eta 0:00:01\r\u001b[K     |█████████████████████████       | 471 kB 8.6 MB/s eta 0:00:01\r\u001b[K     |█████████████████████████▋      | 481 kB 8.6 MB/s eta 0:00:01\r\u001b[K     |██████████████████████████▏     | 491 kB 8.6 MB/s eta 0:00:01\r\u001b[K     |██████████████████████████▊     | 501 kB 8.6 MB/s eta 0:00:01\r\u001b[K     |███████████████████████████▎    | 512 kB 8.6 MB/s eta 0:00:01\r\u001b[K     |███████████████████████████▉    | 522 kB 8.6 MB/s eta 0:00:01\r\u001b[K     |████████████████████████████▍   | 532 kB 8.6 MB/s eta 0:00:01\r\u001b[K     |█████████████████████████████   | 542 kB 8.6 MB/s eta 0:00:01\r\u001b[K     |█████████████████████████████▌  | 552 kB 8.6 MB/s eta 0:00:01\r\u001b[K     |██████████████████████████████  | 563 kB 8.6 MB/s eta 0:00:01\r\u001b[K     |██████████████████████████████▌ | 573 kB 8.6 MB/s eta 0:00:01\r\u001b[K     |███████████████████████████████ | 583 kB 8.6 MB/s eta 0:00:01\r\u001b[K     |███████████████████████████████▋| 593 kB 8.6 MB/s eta 0:00:01\r\u001b[K     |████████████████████████████████| 600 kB 8.6 MB/s \n",
            "\u001b[?25hRequirement already satisfied: numpy in /usr/local/lib/python3.7/dist-packages (from docarray==0.8.3) (1.21.5)\n",
            "Collecting rich\n",
            "  Downloading rich-12.0.1-py3-none-any.whl (224 kB)\n",
            "\u001b[K     |████████████████████████████████| 224 kB 45.2 MB/s \n",
            "\u001b[?25hCollecting commonmark<0.10.0,>=0.9.0\n",
            "  Downloading commonmark-0.9.1-py2.py3-none-any.whl (51 kB)\n",
            "\u001b[K     |████████████████████████████████| 51 kB 4.0 MB/s \n",
            "\u001b[?25hRequirement already satisfied: pygments<3.0.0,>=2.6.0 in /usr/local/lib/python3.7/dist-packages (from rich->docarray==0.8.3) (2.6.1)\n",
            "Requirement already satisfied: typing-extensions<5.0,>=3.7.4 in /usr/local/lib/python3.7/dist-packages (from rich->docarray==0.8.3) (3.10.0.2)\n",
            "Building wheels for collected packages: docarray\n",
            "  Building wheel for docarray (setup.py) ... \u001b[?25l\u001b[?25hdone\n",
            "  Created wheel for docarray: filename=docarray-0.8.3-py3-none-any.whl size=639765 sha256=868eee69c48d08581924401ceffe4a2949db089ed3e611ef532d9e98b99cd0cc\n",
            "  Stored in directory: /root/.cache/pip/wheels/20/a7/e5/73196e6ec5c5e76ec061206b2fd09abdabd19a5dbf3907e893\n",
            "Successfully built docarray\n",
            "Installing collected packages: commonmark, rich, docarray\n",
            "Successfully installed commonmark-0.9.1 docarray-0.8.3 rich-12.0.1\n",
            "Requirement already satisfied: torchvision in /usr/local/lib/python3.7/dist-packages (0.11.1+cu111)\n",
            "Requirement already satisfied: pillow!=8.3.0,>=5.3.0 in /usr/local/lib/python3.7/dist-packages (from torchvision) (7.1.2)\n",
            "Requirement already satisfied: torch==1.10.0 in /usr/local/lib/python3.7/dist-packages (from torchvision) (1.10.0+cu111)\n",
            "Requirement already satisfied: numpy in /usr/local/lib/python3.7/dist-packages (from torchvision) (1.21.5)\n",
            "Requirement already satisfied: typing-extensions in /usr/local/lib/python3.7/dist-packages (from torch==1.10.0->torchvision) (3.10.0.2)\n"
          ]
        }
      ],
      "source": [
        "!pip install \"docarray==0.8.3\" \n",
        "!pip install \"torchvision\"\n"
      ]
    },
    {
      "cell_type": "code",
      "execution_count": null,
      "id": "61a76be3-4607-4a2b-815b-75b2749e6384",
      "metadata": {
        "id": "61a76be3-4607-4a2b-815b-75b2749e6384"
      },
      "outputs": [],
      "source": [
        "from docarray import Document, DocumentArray\n",
        "import torchvision"
      ]
    },
    {
      "cell_type": "markdown",
      "id": "c58e62d3-7001-493b-a718-bd3de8a9ea13",
      "metadata": {
        "id": "c58e62d3-7001-493b-a718-bd3de8a9ea13"
      },
      "source": [
        "## Load images"
      ]
    },
    {
      "cell_type": "code",
      "execution_count": null,
      "id": "486c94fc-9af1-40b2-be7a-17091c3077c0",
      "metadata": {
        "id": "486c94fc-9af1-40b2-be7a-17091c3077c0",
        "colab": {
          "base_uri": "https://localhost:8080/"
        },
        "outputId": "7a6317c8-2a81-4e68-ba79-a87d62651110"
      },
      "outputs": [
        {
          "output_type": "stream",
          "name": "stdout",
          "text": [
            "Nothing to download. Using ./dataset for data\n"
          ]
        }
      ],
      "source": [
        "# Download images if they don't exist\n",
        "import os\n",
        "\n",
        "if not os.path.isdir(data_dir) and not os.path.islink(data_dir):\n",
        "    print(f\"Can't find {data_dir}. Downloading toy dataset\")\n",
        "    !wget \"$toy_data_url\" -O dataset.zip\n",
        "    !unzip -q dataset.zip # Don't print out every darn filename\n",
        "    !rm -f dataset.zip\n",
        "else:\n",
        "    print(f\"Nothing to download. Using {data_dir} for data\")\n",
        "\n",
        "\n",
        "data_dir = \"dataset\"\n",
        "max_files = 100\n",
        "\n",
        "docs = DocumentArray.from_files(\n",
        "    f\"{data_dir}/*.jpg\", size=max_files\n",
        ")"
      ]
    },
    {
      "cell_type": "markdown",
      "id": "8f3759fa-887b-43f9-be65-3748e4c0dfba",
      "metadata": {
        "id": "8f3759fa-887b-43f9-be65-3748e4c0dfba"
      },
      "source": [
        "## Apply preprocessing"
      ]
    },
    {
      "cell_type": "code",
      "execution_count": null,
      "id": "6fa60b17-aa2e-4e04-9858-d09c0c9b6795",
      "metadata": {
        "id": "6fa60b17-aa2e-4e04-9858-d09c0c9b6795"
      },
      "outputs": [],
      "source": [
        "# Define preprocessing\n",
        "def preproc(d: Document):\n",
        "    return (\n",
        "        d.load_uri_to_image_tensor()\n",
        "            .set_image_tensor_shape((180, 160))\n",
        "            .set_image_tensor_normalization()\n",
        "            .set_image_tensor_channel_axis(-1, 0)\n",
        "    )\n",
        "\n"
      ]
    },
    {
      "cell_type": "code",
      "execution_count": null,
      "id": "ef697e23-5505-40ef-99ef-6dc7e99aed1c",
      "metadata": {
        "id": "ef697e23-5505-40ef-99ef-6dc7e99aed1c",
        "colab": {
          "base_uri": "https://localhost:8080/",
          "height": 264
        },
        "outputId": "340bf6d1-581a-49c0-f006-45b0594ca566"
      },
      "outputs": [
        {
          "output_type": "display_data",
          "data": {
            "text/plain": [
              "\u001b[3m                       Documents Summary                       \u001b[0m\n",
              "                                                               \n",
              "  Length                 100                                   \n",
              "  Homogenous Documents   True                                  \n",
              "  Common Attributes      ('id', 'tensor', 'mime_type', 'uri')  \n",
              "                                                               \n",
              "\u001b[3m                      Attributes Summary                       \u001b[0m\n",
              "                                                               \n",
              " \u001b[1m \u001b[0m\u001b[1mAttribute\u001b[0m\u001b[1m \u001b[0m \u001b[1m \u001b[0m\u001b[1mData type   \u001b[0m\u001b[1m \u001b[0m \u001b[1m \u001b[0m\u001b[1m#Unique values\u001b[0m\u001b[1m \u001b[0m \u001b[1m \u001b[0m\u001b[1mHas empty value\u001b[0m\u001b[1m \u001b[0m \n",
              " ───────────────────────────────────────────────────────────── \n",
              "  id          ('str',)       100              False            \n",
              "  mime_type   ('str',)       1                False            \n",
              "  tensor      ('ndarray',)   100              False            \n",
              "  uri         ('str',)       100              False            \n",
              "                                                               \n"
            ],
            "text/html": [
              "<pre style=\"white-space:pre;overflow-x:auto;line-height:normal;font-family:Menlo,'DejaVu Sans Mono',consolas,'Courier New',monospace\"><span style=\"font-style: italic\">                       Documents Summary                       </span>\n",
              "                                                               \n",
              "  Length                 100                                   \n",
              "  Homogenous Documents   True                                  \n",
              "  Common Attributes      ('id', 'tensor', 'mime_type', 'uri')  \n",
              "                                                               \n",
              "<span style=\"font-style: italic\">                      Attributes Summary                       </span>\n",
              "                                                               \n",
              " <span style=\"font-weight: bold\"> Attribute </span> <span style=\"font-weight: bold\"> Data type    </span> <span style=\"font-weight: bold\"> #Unique values </span> <span style=\"font-weight: bold\"> Has empty value </span> \n",
              " ───────────────────────────────────────────────────────────── \n",
              "  id          ('str',)       100              False            \n",
              "  mime_type   ('str',)       1                False            \n",
              "  tensor      ('ndarray',)   100              False            \n",
              "  uri         ('str',)       100              False            \n",
              "                                                               \n",
              "</pre>\n"
            ]
          },
          "metadata": {}
        }
      ],
      "source": [
        "# Apply pre-processing\n",
        "docs.apply(preproc)"
      ]
    },
    {
      "cell_type": "markdown",
      "id": "1414b203-1bf6-4057-a264-a8d88759b85f",
      "metadata": {
        "id": "1414b203-1bf6-4057-a264-a8d88759b85f"
      },
      "source": [
        "## Embed images"
      ]
    },
    {
      "cell_type": "code",
      "execution_count": null,
      "id": "e179dd28-bf2c-45ee-99e5-223e0a144a25",
      "metadata": {
        "id": "e179dd28-bf2c-45ee-99e5-223e0a144a25",
        "colab": {
          "base_uri": "https://localhost:8080/",
          "height": 67,
          "referenced_widgets": [
            "79b94e8250cd45cd957a0b069cfdf8c9",
            "ccc6abe83f2741dcade669cda53c1b58",
            "9ea3bfe3da3248f69de59c49cb86f87e",
            "579539b504254d77aad1c8ab56014000",
            "ac635a84c59041508fd05581b79331a4",
            "8b4077879bca4332a6368a0bd539cb00",
            "c959275d04f741bb876e012c17007571",
            "117d7c13078f4e2aa7268baa50b2a957",
            "d67cd7d0f9fe4e838423e6960a75d830",
            "40ac64bdb3f748518fc8702ddf1f49a6",
            "057516d90e52441c93902797e92ef0ab"
          ]
        },
        "outputId": "fc7adb55-450a-47a1-a7cc-c2315bcc725b"
      },
      "outputs": [
        {
          "output_type": "stream",
          "name": "stderr",
          "text": [
            "Downloading: \"https://download.pytorch.org/models/resnet50-0676ba61.pth\" to /root/.cache/torch/hub/checkpoints/resnet50-0676ba61.pth\n"
          ]
        },
        {
          "output_type": "display_data",
          "data": {
            "text/plain": [
              "  0%|          | 0.00/97.8M [00:00<?, ?B/s]"
            ],
            "application/vnd.jupyter.widget-view+json": {
              "version_major": 2,
              "version_minor": 0,
              "model_id": "79b94e8250cd45cd957a0b069cfdf8c9"
            }
          },
          "metadata": {}
        }
      ],
      "source": [
        "# Convert images into embeddings\n",
        "model = torchvision.models.resnet50(pretrained=True)"
      ]
    },
    {
      "cell_type": "code",
      "execution_count": null,
      "id": "8c928a0a-cd04-4699-8a3b-29e9416f0c75",
      "metadata": {
        "id": "8c928a0a-cd04-4699-8a3b-29e9416f0c75",
        "colab": {
          "base_uri": "https://localhost:8080/",
          "height": 281
        },
        "outputId": "1aa64534-171e-47db-8050-2e8b44185b32"
      },
      "outputs": [
        {
          "output_type": "display_data",
          "data": {
            "text/plain": [
              "\u001b[3m                             Documents Summary                              \u001b[0m\n",
              "                                                                            \n",
              "  Length                 100                                                \n",
              "  Homogenous Documents   True                                               \n",
              "  Common Attributes      ('id', 'tensor', 'mime_type', 'uri', 'embedding')  \n",
              "                                                                            \n",
              "\u001b[3m                      Attributes Summary                       \u001b[0m\n",
              "                                                               \n",
              " \u001b[1m \u001b[0m\u001b[1mAttribute\u001b[0m\u001b[1m \u001b[0m \u001b[1m \u001b[0m\u001b[1mData type   \u001b[0m\u001b[1m \u001b[0m \u001b[1m \u001b[0m\u001b[1m#Unique values\u001b[0m\u001b[1m \u001b[0m \u001b[1m \u001b[0m\u001b[1mHas empty value\u001b[0m\u001b[1m \u001b[0m \n",
              " ───────────────────────────────────────────────────────────── \n",
              "  embedding   ('Tensor',)    100              False            \n",
              "  id          ('str',)       100              False            \n",
              "  mime_type   ('str',)       1                False            \n",
              "  tensor      ('str',)       100              False            \n",
              "  uri         ('ndarray',)   100              False            \n",
              "                                                               \n"
            ],
            "text/html": [
              "<pre style=\"white-space:pre;overflow-x:auto;line-height:normal;font-family:Menlo,'DejaVu Sans Mono',consolas,'Courier New',monospace\"><span style=\"font-style: italic\">                             Documents Summary                              </span>\n",
              "                                                                            \n",
              "  Length                 100                                                \n",
              "  Homogenous Documents   True                                               \n",
              "  Common Attributes      ('id', 'tensor', 'mime_type', 'uri', 'embedding')  \n",
              "                                                                            \n",
              "<span style=\"font-style: italic\">                      Attributes Summary                       </span>\n",
              "                                                               \n",
              " <span style=\"font-weight: bold\"> Attribute </span> <span style=\"font-weight: bold\"> Data type    </span> <span style=\"font-weight: bold\"> #Unique values </span> <span style=\"font-weight: bold\"> Has empty value </span> \n",
              " ───────────────────────────────────────────────────────────── \n",
              "  embedding   ('Tensor',)    100              False            \n",
              "  id          ('str',)       100              False            \n",
              "  mime_type   ('str',)       1                False            \n",
              "  tensor      ('str',)       100              False            \n",
              "  uri         ('ndarray',)   100              False            \n",
              "                                                               \n",
              "</pre>\n"
            ]
          },
          "metadata": {}
        }
      ],
      "source": [
        "docs.embed(model, device=\"cpu\")  # turn this into GPU if available"
      ]
    },
    {
      "cell_type": "markdown",
      "id": "d1de6557-82e9-4309-a4eb-c69c768809d5",
      "metadata": {
        "id": "d1de6557-82e9-4309-a4eb-c69c768809d5"
      },
      "source": [
        "##Query image\n",
        "\n"
      ]
    },
    {
      "cell_type": "code",
      "execution_count": null,
      "id": "7a732acb-b3ea-4115-b2f9-3950912d7095",
      "metadata": {
        "id": "7a732acb-b3ea-4115-b2f9-3950912d7095"
      },
      "outputs": [],
      "source": [
        "# Create Query image\n",
        "query_doc = Document(uri=f\"{data_dir}/1.jpg\")"
      ]
    },
    {
      "cell_type": "code",
      "execution_count": null,
      "id": "779f8a99-599e-4cf7-9196-e808f4645f19",
      "metadata": {
        "id": "779f8a99-599e-4cf7-9196-e808f4645f19",
        "colab": {
          "base_uri": "https://localhost:8080/"
        },
        "outputId": "eab51074-c2f9-40f6-ddd1-608cfc93a00e"
      },
      "outputs": [
        {
          "output_type": "stream",
          "name": "stdout",
          "text": [
            " <Document ('id', 'tensor', 'mime_type', 'uri') at 03878c0aadb111ec8a330242ac1c0002>\n"
          ]
        }
      ],
      "source": [
        "# Convert image to tensor\n",
        "query_doc.load_uri_to_image_tensor()"
      ]
    },
    {
      "cell_type": "code",
      "execution_count": null,
      "id": "84f11641-19e0-4baf-94b0-015bdfdb33c6",
      "metadata": {
        "id": "84f11641-19e0-4baf-94b0-015bdfdb33c6"
      },
      "outputs": [],
      "source": [
        "# Apply preprocessing\n",
        "query_doc = preproc(query_doc)"
      ]
    },
    {
      "cell_type": "code",
      "source": [
        "# Embed image query\n",
        "query_doc.embed(model, device=\"cpu\")"
      ],
      "metadata": {
        "colab": {
          "base_uri": "https://localhost:8080/"
        },
        "id": "qN234oORusT0",
        "outputId": "1cde1c17-a912-4c71-877b-2ce43416fb5e"
      },
      "id": "qN234oORusT0",
      "execution_count": null,
      "outputs": [
        {
          "output_type": "stream",
          "name": "stdout",
          "text": [
            " <Document ('id', 'tensor', 'mime_type', 'uri', 'embedding') at 03878c0aadb111ec8a330242ac1c0002>\n"
          ]
        }
      ]
    },
    {
      "cell_type": "markdown",
      "id": "d2a29921-b988-49f3-9384-21787655119b",
      "metadata": {
        "id": "d2a29921-b988-49f3-9384-21787655119b"
      },
      "source": [
        "## Get matches"
      ]
    },
    {
      "cell_type": "code",
      "execution_count": null,
      "id": "4f8f9826-21c5-4cd2-81a1-494c16289dec",
      "metadata": {
        "id": "4f8f9826-21c5-4cd2-81a1-494c16289dec"
      },
      "outputs": [],
      "source": [
        "matches = query_doc.match(docs, limit=4).matches\n"
      ]
    },
    {
      "cell_type": "markdown",
      "id": "ddb6f736-c1fc-46b8-96d3-fb017f1a2c7f",
      "metadata": {
        "id": "ddb6f736-c1fc-46b8-96d3-fb017f1a2c7f"
      },
      "source": [
        "## See the results\n",
        "\n"
      ]
    },
    {
      "cell_type": "code",
      "execution_count": null,
      "id": "975ee56f-56b5-4ccf-b54d-829f2325bbd9",
      "metadata": {
        "id": "975ee56f-56b5-4ccf-b54d-829f2325bbd9"
      },
      "outputs": [],
      "source": [
        "# Define reverse pre processing\n",
        "def reverse_preproc(d: Document):\n",
        "    return (d.set_image_tensor_channel_axis(0, -1)).set_image_tensor_inv_normalization()"
      ]
    },
    {
      "cell_type": "code",
      "execution_count": null,
      "id": "b20ff195-300b-42ac-a14b-88bd9034ef40",
      "metadata": {
        "id": "b20ff195-300b-42ac-a14b-88bd9034ef40",
        "colab": {
          "base_uri": "https://localhost:8080/",
          "height": 319
        },
        "outputId": "8acf2dbe-f15d-4f7f-994a-9ba4f65050c4"
      },
      "outputs": [
        {
          "output_type": "display_data",
          "data": {
            "text/plain": [
              "<Figure size 432x288 with 1 Axes>"
            ],
            "image/png": "[encoded data removed]"
          },
          "metadata": {}
        }
      ],
      "source": [
        "matches.apply(reverse_preproc).plot_image_sprites()\n"
      ]
    },
    {
      "cell_type": "markdown",
      "source": [
        ""
      ],
      "metadata": {
        "id": "iA3F65pcnr6-"
      },
      "id": "iA3F65pcnr6-"
    }
  ],
  "metadata": {
    "kernelspec": {
      "display_name": "Python 3",
      "language": "python",
      "name": "python3"
    },
    "language_info": {
      "codemirror_mode": {
        "name": "ipython",
        "version": 3
      },
      "file_extension": ".py",
      "mimetype": "text/x-python",
      "name": "python",
      "nbconvert_exporter": "python",
      "pygments_lexer": "ipython3",
      "version": "3.7.12"
    },
    "colab": {
      "name": "cat_search.ipynb",
      "provenance": [],
      "collapsed_sections": []
    },
    "widgets": {
      "application/vnd.jupyter.widget-state+json": {
        "79b94e8250cd45cd957a0b069cfdf8c9": {
          "model_module": "@jupyter-widgets/controls",
          "model_name": "HBoxModel",
          "model_module_version": "1.5.0",
          "state": {
            "_dom_classes": [],
            "_model_module": "@jupyter-widgets/controls",
            "_model_module_version": "1.5.0",
            "_model_name": "HBoxModel",
            "_view_count": null,
            "_view_module": "@jupyter-widgets/controls",
            "_view_module_version": "1.5.0",
            "_view_name": "HBoxView",
            "box_style": "",
            "children": [
              "IPY_MODEL_ccc6abe83f2741dcade669cda53c1b58",
              "IPY_MODEL_9ea3bfe3da3248f69de59c49cb86f87e",
              "IPY_MODEL_579539b504254d77aad1c8ab56014000"
            ],
            "layout": "IPY_MODEL_ac635a84c59041508fd05581b79331a4"
          }
        },
        "ccc6abe83f2741dcade669cda53c1b58": {
          "model_module": "@jupyter-widgets/controls",
          "model_name": "HTMLModel",
          "model_module_version": "1.5.0",
          "state": {
            "_dom_classes": [],
            "_model_module": "@jupyter-widgets/controls",
            "_model_module_version": "1.5.0",
            "_model_name": "HTMLModel",
            "_view_count": null,
            "_view_module": "@jupyter-widgets/controls",
            "_view_module_version": "1.5.0",
            "_view_name": "HTMLView",
            "description": "",
            "description_tooltip": null,
            "layout": "IPY_MODEL_8b4077879bca4332a6368a0bd539cb00",
            "placeholder": "​",
            "style": "IPY_MODEL_c959275d04f741bb876e012c17007571",
            "value": "100%"
          }
        },
        "9ea3bfe3da3248f69de59c49cb86f87e": {
          "model_module": "@jupyter-widgets/controls",
          "model_name": "FloatProgressModel",
          "model_module_version": "1.5.0",
          "state": {
            "_dom_classes": [],
            "_model_module": "@jupyter-widgets/controls",
            "_model_module_version": "1.5.0",
            "_model_name": "FloatProgressModel",
            "_view_count": null,
            "_view_module": "@jupyter-widgets/controls",
            "_view_module_version": "1.5.0",
            "_view_name": "ProgressView",
            "bar_style": "success",
            "description": "",
            "description_tooltip": null,
            "layout": "IPY_MODEL_117d7c13078f4e2aa7268baa50b2a957",
            "max": 102530333,
            "min": 0,
            "orientation": "horizontal",
            "style": "IPY_MODEL_d67cd7d0f9fe4e838423e6960a75d830",
            "value": 102530333
          }
        },
        "579539b504254d77aad1c8ab56014000": {
          "model_module": "@jupyter-widgets/controls",
          "model_name": "HTMLModel",
          "model_module_version": "1.5.0",
          "state": {
            "_dom_classes": [],
            "_model_module": "@jupyter-widgets/controls",
            "_model_module_version": "1.5.0",
            "_model_name": "HTMLModel",
            "_view_count": null,
            "_view_module": "@jupyter-widgets/controls",
            "_view_module_version": "1.5.0",
            "_view_name": "HTMLView",
            "description": "",
            "description_tooltip": null,
            "layout": "IPY_MODEL_40ac64bdb3f748518fc8702ddf1f49a6",
            "placeholder": "​",
            "style": "IPY_MODEL_057516d90e52441c93902797e92ef0ab",
            "value": " 97.8M/97.8M [00:00&lt;00:00, 188MB/s]"
          }
        },
        "ac635a84c59041508fd05581b79331a4": {
          "model_module": "@jupyter-widgets/base",
          "model_name": "LayoutModel",
          "model_module_version": "1.2.0",
          "state": {
            "_model_module": "@jupyter-widgets/base",
            "_model_module_version": "1.2.0",
            "_model_name": "LayoutModel",
            "_view_count": null,
            "_view_module": "@jupyter-widgets/base",
            "_view_module_version": "1.2.0",
            "_view_name": "LayoutView",
            "align_content": null,
            "align_items": null,
            "align_self": null,
            "border": null,
            "bottom": null,
            "display": null,
            "flex": null,
            "flex_flow": null,
            "grid_area": null,
            "grid_auto_columns": null,
            "grid_auto_flow": null,
            "grid_auto_rows": null,
            "grid_column": null,
            "grid_gap": null,
            "grid_row": null,
            "grid_template_areas": null,
            "grid_template_columns": null,
            "grid_template_rows": null,
            "height": null,
            "justify_content": null,
            "justify_items": null,
            "left": null,
            "margin": null,
            "max_height": null,
            "max_width": null,
            "min_height": null,
            "min_width": null,
            "object_fit": null,
            "object_position": null,
            "order": null,
            "overflow": null,
            "overflow_x": null,
            "overflow_y": null,
            "padding": null,
            "right": null,
            "top": null,
            "visibility": null,
            "width": null
          }
        },
        "8b4077879bca4332a6368a0bd539cb00": {
          "model_module": "@jupyter-widgets/base",
          "model_name": "LayoutModel",
          "model_module_version": "1.2.0",
          "state": {
            "_model_module": "@jupyter-widgets/base",
            "_model_module_version": "1.2.0",
            "_model_name": "LayoutModel",
            "_view_count": null,
            "_view_module": "@jupyter-widgets/base",
            "_view_module_version": "1.2.0",
            "_view_name": "LayoutView",
            "align_content": null,
            "align_items": null,
            "align_self": null,
            "border": null,
            "bottom": null,
            "display": null,
            "flex": null,
            "flex_flow": null,
            "grid_area": null,
            "grid_auto_columns": null,
            "grid_auto_flow": null,
            "grid_auto_rows": null,
            "grid_column": null,
            "grid_gap": null,
            "grid_row": null,
            "grid_template_areas": null,
            "grid_template_columns": null,
            "grid_template_rows": null,
            "height": null,
            "justify_content": null,
            "justify_items": null,
            "left": null,
            "margin": null,
            "max_height": null,
            "max_width": null,
            "min_height": null,
            "min_width": null,
            "object_fit": null,
            "object_position": null,
            "order": null,
            "overflow": null,
            "overflow_x": null,
            "overflow_y": null,
            "padding": null,
            "right": null,
            "top": null,
            "visibility": null,
            "width": null
          }
        },
        "c959275d04f741bb876e012c17007571": {
          "model_module": "@jupyter-widgets/controls",
          "model_name": "DescriptionStyleModel",
          "model_module_version": "1.5.0",
          "state": {
            "_model_module": "@jupyter-widgets/controls",
            "_model_module_version": "1.5.0",
            "_model_name": "DescriptionStyleModel",
            "_view_count": null,
            "_view_module": "@jupyter-widgets/base",
            "_view_module_version": "1.2.0",
            "_view_name": "StyleView",
            "description_width": ""
          }
        },
        "117d7c13078f4e2aa7268baa50b2a957": {
          "model_module": "@jupyter-widgets/base",
          "model_name": "LayoutModel",
          "model_module_version": "1.2.0",
          "state": {
            "_model_module": "@jupyter-widgets/base",
            "_model_module_version": "1.2.0",
            "_model_name": "LayoutModel",
            "_view_count": null,
            "_view_module": "@jupyter-widgets/base",
            "_view_module_version": "1.2.0",
            "_view_name": "LayoutView",
            "align_content": null,
            "align_items": null,
            "align_self": null,
            "border": null,
            "bottom": null,
            "display": null,
            "flex": null,
            "flex_flow": null,
            "grid_area": null,
            "grid_auto_columns": null,
            "grid_auto_flow": null,
            "grid_auto_rows": null,
            "grid_column": null,
            "grid_gap": null,
            "grid_row": null,
            "grid_template_areas": null,
            "grid_template_columns": null,
            "grid_template_rows": null,
            "height": null,
            "justify_content": null,
            "justify_items": null,
            "left": null,
            "margin": null,
            "max_height": null,
            "max_width": null,
            "min_height": null,
            "min_width": null,
            "object_fit": null,
            "object_position": null,
            "order": null,
            "overflow": null,
            "overflow_x": null,
            "overflow_y": null,
            "padding": null,
            "right": null,
            "top": null,
            "visibility": null,
            "width": null
          }
        },
        "d67cd7d0f9fe4e838423e6960a75d830": {
          "model_module": "@jupyter-widgets/controls",
          "model_name": "ProgressStyleModel",
          "model_module_version": "1.5.0",
          "state": {
            "_model_module": "@jupyter-widgets/controls",
            "_model_module_version": "1.5.0",
            "_model_name": "ProgressStyleModel",
            "_view_count": null,
            "_view_module": "@jupyter-widgets/base",
            "_view_module_version": "1.2.0",
            "_view_name": "StyleView",
            "bar_color": null,
            "description_width": ""
          }
        },
        "40ac64bdb3f748518fc8702ddf1f49a6": {
          "model_module": "@jupyter-widgets/base",
          "model_name": "LayoutModel",
          "model_module_version": "1.2.0",
          "state": {
            "_model_module": "@jupyter-widgets/base",
            "_model_module_version": "1.2.0",
            "_model_name": "LayoutModel",
            "_view_count": null,
            "_view_module": "@jupyter-widgets/base",
            "_view_module_version": "1.2.0",
            "_view_name": "LayoutView",
            "align_content": null,
            "align_items": null,
            "align_self": null,
            "border": null,
            "bottom": null,
            "display": null,
            "flex": null,
            "flex_flow": null,
            "grid_area": null,
            "grid_auto_columns": null,
            "grid_auto_flow": null,
            "grid_auto_rows": null,
            "grid_column": null,
            "grid_gap": null,
            "grid_row": null,
            "grid_template_areas": null,
            "grid_template_columns": null,
            "grid_template_rows": null,
            "height": null,
            "justify_content": null,
            "justify_items": null,
            "left": null,
            "margin": null,
            "max_height": null,
            "max_width": null,
            "min_height": null,
            "min_width": null,
            "object_fit": null,
            "object_position": null,
            "order": null,
            "overflow": null,
            "overflow_x": null,
            "overflow_y": null,
            "padding": null,
            "right": null,
            "top": null,
            "visibility": null,
            "width": null
          }
        },
        "057516d90e52441c93902797e92ef0ab": {
          "model_module": "@jupyter-widgets/controls",
          "model_name": "DescriptionStyleModel",
          "model_module_version": "1.5.0",
          "state": {
            "_model_module": "@jupyter-widgets/controls",
            "_model_module_version": "1.5.0",
            "_model_name": "DescriptionStyleModel",
            "_view_count": null,
            "_view_module": "@jupyter-widgets/base",
            "_view_module_version": "1.2.0",
            "_view_name": "StyleView",
            "description_width": ""
          }
        }
      }
    }
  },
  "nbformat": 4,
  "nbformat_minor": 5
}